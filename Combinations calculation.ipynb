{
 "cells": [
  {
   "cell_type": "code",
   "execution_count": null,
   "metadata": {},
   "outputs": [],
   "source": [
    "import pandas as pd\n",
    "import numpy as np\n",
    "import seaborn as sns\n",
    "import matplotlib.pyplot as plt\n",
    "from collections import Counter"
   ]
  },
  {
   "cell_type": "code",
   "execution_count": null,
   "metadata": {},
   "outputs": [],
   "source": [
    "# data import \n",
    "data = pd.read_csv(\"\", sep = \";\")\n",
    "order = data['Unnamed: 1']\n",
    "data = data.drop(['Unnamed: 0', 'Unnamed: 1'], axis = 1)\n",
    "data = data.replace('  ', '0').fillna('0').astype('string')\n",
    "pd.set_option('display.min_rows', 1000)"
   ]
  },
  {
   "cell_type": "code",
   "execution_count": null,
   "metadata": {},
   "outputs": [],
   "source": [
    "data = pd.read_csv(\"\")\n",
    "data = data.drop('Unnamed: 0', axis = 1)"
   ]
  },
  {
   "cell_type": "code",
   "execution_count": null,
   "metadata": {},
   "outputs": [],
   "source": [
    "def encode_arr(arr):\n",
    "    encoded_arr = []\n",
    "    for i in range(len(arr)):\n",
    "        encoded_arr.append(Card(arr[i]))\n",
    "    return encoded_arr"
   ]
  },
  {
   "cell_type": "code",
   "execution_count": null,
   "metadata": {},
   "outputs": [],
   "source": [
    "def create_player_df(df, s, e):    \n",
    "    arr_player = []\n",
    "    for i in range(1, len(df)):\n",
    "        player_hands = list(df.loc[i])[s:e]\n",
    "        prev_row = list(df.loc[i - 1])\n",
    "        unique_arr = encode_arr(list(set(player_hands + prev_row)))\n",
    "        arr_player.append(unique_arr)\n",
    "    return arr_player\n",
    "        "
   ]
  },
  {
   "cell_type": "code",
   "execution_count": null,
   "metadata": {},
   "outputs": [],
   "source": [
    "df_player1 = create_player_df(data, 0, 2)\n",
    "df_player2 = create_player_df(data, 2, 4)\n",
    "df_player3 = create_player_df(data, 4, 6)\n",
    "df_player4 = create_player_df(data, 6, 8)\n",
    "df_player5 = create_player_df(data, 8, 10)\n",
    "df_player6 = create_player_df(data, 10, 12)"
   ]
  },
  {
   "cell_type": "code",
   "execution_count": null,
   "metadata": {},
   "outputs": [],
   "source": [
    "games_indexes = []\n",
    "for i in range(1, len(data)):\n",
    "    if data.iloc[i, 0] != data.iloc[i - 1, 0]:\n",
    "        games_indexes.append(i)"
   ]
  },
  {
   "attachments": {},
   "cell_type": "markdown",
   "metadata": {},
   "source": [
    "# CLASSES"
   ]
  },
  {
   "attachments": {},
   "cell_type": "markdown",
   "metadata": {},
   "source": [
    "CLASS: create card with value and suit "
   ]
  },
  {
   "cell_type": "code",
   "execution_count": null,
   "metadata": {},
   "outputs": [],
   "source": [
    "class Card:\n",
    "  def __init__(self, card):\n",
    "    if card != '0':\n",
    "      self.value = card[0] #value \n",
    "      self.suit = card[1] #suit\n",
    "    else:\n",
    "      self.value = '0'\n",
    "      self.suit = '0'"
   ]
  },
  {
   "attachments": {},
   "cell_type": "markdown",
   "metadata": {},
   "source": [
    "CLASS: create player with values and suits counts"
   ]
  },
  {
   "cell_type": "code",
   "execution_count": null,
   "metadata": {},
   "outputs": [],
   "source": [
    "class Player:\n",
    "    def __init__(self, values_dict, suits_dict):\n",
    "        self.values = values_dict\n",
    "        self.suits = suits_dict"
   ]
  },
  {
   "attachments": {},
   "cell_type": "markdown",
   "metadata": {},
   "source": [
    "CLASS: create combination with name, score, bonus info, kicker and player's name"
   ]
  },
  {
   "cell_type": "code",
   "execution_count": null,
   "metadata": {},
   "outputs": [],
   "source": [
    "class Combination:\n",
    "    def __init__(self, comb_name, comb_score, score, bonus_info):\n",
    "        self.combination_name = comb_name\n",
    "        self.combination_score = comb_score\n",
    "        self.score = score\n",
    "        self.bonus = bonus_info\n",
    "    def append_kicker(self, kicker):\n",
    "        self.kicker = kicker\n",
    "    def append_player(self, player):\n",
    "        self.player = player"
   ]
  },
  {
   "attachments": {},
   "cell_type": "markdown",
   "metadata": {},
   "source": [
    "# FUNCTIONS"
   ]
  },
  {
   "attachments": {},
   "cell_type": "markdown",
   "metadata": {},
   "source": [
    "FUNCTION: encode dataframe to 2D array of Card objects"
   ]
  },
  {
   "cell_type": "code",
   "execution_count": null,
   "metadata": {},
   "outputs": [],
   "source": [
    "def encode_df_cards(df_tables):\n",
    "  tables = []\n",
    "  for i in range(len(df_tables)):\n",
    "    cards = []\n",
    "    for j in range(df_tables.shape[1]):\n",
    "      cards.append(Card(df_tables.iloc[i, j]))\n",
    "    tables.append(cards)\n",
    "  return tables"
   ]
  },
  {
   "attachments": {},
   "cell_type": "markdown",
   "metadata": {},
   "source": [
    "FUNCTION: return sorted scores of each value in string "
   ]
  },
  {
   "cell_type": "code",
   "execution_count": null,
   "metadata": {},
   "outputs": [],
   "source": [
    "def get_value_score(string):\n",
    "    scores = []\n",
    "    sorted_arr = list(string)\n",
    "    if '2' in sorted_arr:\n",
    "        scores.append(2)\n",
    "    if '3' in sorted_arr:\n",
    "        scores.append(3)\n",
    "    if '4' in sorted_arr:\n",
    "        scores.append(4)\n",
    "    if '5' in sorted_arr:\n",
    "        scores.append(5)\n",
    "    if '6' in sorted_arr:\n",
    "        scores.append(6)\n",
    "    if '7' in sorted_arr:\n",
    "        scores.append(7)\n",
    "    if '8' in sorted_arr:\n",
    "        scores.append(8)\n",
    "    if '9' in sorted_arr:\n",
    "        scores.append(9)\n",
    "    if 'T' in sorted_arr:\n",
    "        scores.append(10)\n",
    "    if 'J' in sorted_arr:\n",
    "        scores.append(11)\n",
    "    if 'Q' in sorted_arr:\n",
    "        scores.append(12)\n",
    "    if 'K' in sorted_arr:\n",
    "        scores.append(13)\n",
    "    if 'A' in sorted_arr:\n",
    "        scores.append(14)\n",
    "    if '0' in sorted_arr:\n",
    "        scores.append(0)\n",
    "    return(sorted(scores))"
   ]
  },
  {
   "attachments": {},
   "cell_type": "markdown",
   "metadata": {},
   "source": [
    "FUNCTION: return straight score"
   ]
  },
  {
   "cell_type": "code",
   "execution_count": null,
   "metadata": {},
   "outputs": [],
   "source": [
    "def get_straight_score(straight_set):\n",
    "    alphabet = \"23456789TJQKA\"\n",
    "    order = dict(zip(alphabet, range(len(alphabet))))\n",
    "    sorted_arr = sorted(straight_set, key = lambda word: [order[c] for c in word])\n",
    "    string = ''.join(sorted_arr)\n",
    "\n",
    "    if \"TJQKA\" in string:\n",
    "        score = 14\n",
    "    elif \"9TJQK\" in string:\n",
    "        score = 13\n",
    "    elif \"89TJQ\" in string:\n",
    "        score = 12\n",
    "    elif \"789TJ\" in string:\n",
    "        score = 11\n",
    "    elif \"6789T\" in string:\n",
    "        score = 10\n",
    "    elif \"56789\" in string:\n",
    "        score = 9\n",
    "    elif \"45678\" in string:\n",
    "        score = 8\n",
    "    elif \"34567\" in string:\n",
    "        score = 7\n",
    "    elif \"23456\" in string:\n",
    "        score = 6\n",
    "    elif \"A2345\" in string:\n",
    "        score = 5\n",
    "    else:\n",
    "        score = 0\n",
    "    return score"
   ]
  },
  {
   "cell_type": "code",
   "execution_count": null,
   "metadata": {},
   "outputs": [],
   "source": [
    "def get_straight_scores(straight_set):\n",
    "    scores = []\n",
    "    alphabet = \"23456789TJQKA\"\n",
    "    order = dict(zip(alphabet, range(len(alphabet))))\n",
    "    sorted_arr = sorted(straight_set, key = lambda word: [order[c] for c in word])\n",
    "    string = ''.join(sorted_arr)\n",
    "\n",
    "    if \"TJQKA\" in string:\n",
    "        scores.append(14)\n",
    "    if \"9TJQK\" in string:\n",
    "        scores.append(13)\n",
    "    if \"89TJQ\" in string:\n",
    "        scores.append(12)\n",
    "    if \"789TJ\" in string:\n",
    "        scores.append(11)\n",
    "    if \"6789T\" in string:\n",
    "        scores.append(10)\n",
    "    if \"56789\" in string:\n",
    "        scores.append(9)\n",
    "    if \"45678\" in string:\n",
    "        scores.append(8)\n",
    "    if \"34567\" in string:\n",
    "        scores.append(7)\n",
    "    if \"23456\" in string:\n",
    "        scores.append(6)\n",
    "    if \"A2345\" in string:\n",
    "        scores.append(5)\n",
    "    return scores"
   ]
  },
  {
   "attachments": {},
   "cell_type": "markdown",
   "metadata": {},
   "source": [
    "FUNCTION: return dictionaries with values and suits counts of community cards"
   ]
  },
  {
   "cell_type": "code",
   "execution_count": null,
   "metadata": {},
   "outputs": [],
   "source": [
    "def get_community_values_suits_dict(community_cards):\n",
    "    community_values = {} # dictionary of value counts for community cards for one row\n",
    "    community_suits = {'S' : '', 'C' : '', 'H' : '', 'D' : '', 'pS' : '', 'pC' : '', 'pH' : '', 'pD' : ''} # dictionary of suits counts for community cards\n",
    "    for i in range(len(community_cards)):\n",
    "        card = community_cards[i] # take object card\n",
    "        if card.value != '0':\n",
    "            # count values\n",
    "            if card.value in community_values:\n",
    "                community_values[card.value] += 1\n",
    "            else:\n",
    "                community_values[card.value] = 1\n",
    "            # count suits     \n",
    "            if (card.suit) in community_suits:\n",
    "                community_suits[card.suit] += card.value\n",
    "            # community suits = {'K' : 3, '9' : 2}\n",
    "            # community suits = {'S' : 'A9', ....}\n",
    "    return community_values, community_suits"
   ]
  },
  {
   "attachments": {},
   "cell_type": "markdown",
   "metadata": {},
   "source": [
    "FUNCTION: return array of Player objects with values and suits counts of players' cards"
   ]
  },
  {
   "cell_type": "code",
   "execution_count": null,
   "metadata": {},
   "outputs": [],
   "source": [
    "def get_players_values_suits_dict(encoded_row):\n",
    "    players_values_suits_arr = []\n",
    "    players_cards = encoded_row[0:12] # array of encoded players cards\n",
    "    community_cards = encoded_row[12:18] # array of encoded community cards\n",
    "    # create dictionary for the row {'P1' : {values}, {suits}, 'P2' : {values}, {suits}}\n",
    "    community_values_dict, community_suits_dict = get_community_values_suits_dict(community_cards)\n",
    "    for j in range(0, 12, 2):\n",
    "        # for each player\n",
    "\n",
    "        player_values_dict, player_suits_dict = community_values_dict.copy(), community_suits_dict.copy() # fill player values and suits from community cards\n",
    "        card1 = players_cards[j] # first player's card\n",
    "        card2 = players_cards[j + 1] # second player's card\n",
    "        if card1.value != '0' and card2.value != '0':\n",
    "            # count player values\n",
    "            if card1.value in player_values_dict:\n",
    "                player_values_dict[card1.value] += 1\n",
    "            else:\n",
    "                player_values_dict[card1.value] = 1\n",
    "            if card2.value in player_values_dict:\n",
    "                player_values_dict[card2.value] += 1\n",
    "            else:\n",
    "                player_values_dict[card2.value] = 1\n",
    "            # add values to player's suits + add values to community suits\n",
    "            if (card1.suit) in player_suits_dict:\n",
    "                player_suits_dict['p' + card1.suit] += card1.value\n",
    "                player_suits_dict[card1.suit] += card1.value\n",
    " \n",
    "            if (card2.suit) in player_suits_dict:\n",
    "                player_suits_dict['p' + card2.suit] += card2.value\n",
    "                player_suits_dict[card2.suit] += card2.value\n",
    "\n",
    "            player_values_dict['Kicker1'] = get_value_score(card1.value)[0] # add Kickers\n",
    "            player_values_dict['Kicker2'] = get_value_score(card2.value)[0]\n",
    "            \n",
    "            players_values_suits_arr.append(Player(player_values_dict, player_suits_dict))\n",
    "        else:\n",
    "            players_values_suits_arr.append(Player({'Kicker1' : 0, 'Kicker2' : 0}, {'0' : '0'}))\n",
    "            \n",
    "    return players_values_suits_arr"
   ]
  },
  {
   "attachments": {},
   "cell_type": "markdown",
   "metadata": {},
   "source": [
    "FUNCTION: return player combination as Combination object"
   ]
  },
  {
   "cell_type": "code",
   "execution_count": null,
   "metadata": {},
   "outputs": [],
   "source": [
    "def get_player_combination(dict_values, dict_suits, player):\n",
    "    # save kickers\n",
    "    kicker1 = dict_values['Kicker1']\n",
    "    kicker2 = dict_values['Kicker2']\n",
    "    # delete kickers from dict_values\n",
    "    dict_values.pop('Kicker1')\n",
    "    dict_values.pop('Kicker2')\n",
    "\n",
    "    straight_set = set(dict_values.keys())\n",
    "\n",
    "    pairs, three_of_kind, four_of_kind = '', '', ''\n",
    "    flush = [(0, 0)]\n",
    "    flush_flag, straight_flag, full_house_flag = 0, 0, 0\n",
    "\n",
    "    for key, value in dict_values.items():\n",
    "        if value == 2:\n",
    "            pairs += key\n",
    "        if value == 3:\n",
    "            three_of_kind += key\n",
    "        if value == 4:\n",
    "            four_of_kind += key\n",
    "\n",
    "    for key, value in dict_suits.items():\n",
    "        if len(value) >= 5:\n",
    "            flush_flag = 1\n",
    "            suits = dict_suits['p' + key]\n",
    "            for i in range(len(suits)):\n",
    "                flush.append((get_value_score(suits[i])[0], key))\n",
    "\n",
    "    scores_pairs = get_value_score(pairs)         \n",
    "    str_score = get_straight_score(straight_set)\n",
    "\n",
    "    #Four of a Kind\n",
    "    if four_of_kind:\n",
    "        scores_four_of_kind = get_value_score(four_of_kind)\n",
    "        combination = Combination('Four of a Kind', 7, scores_four_of_kind[-1], scores_four_of_kind)\n",
    "    #Full House\n",
    "    elif pairs and three_of_kind or len(three_of_kind) > 1:\n",
    "        full_house_flag = 1\n",
    "        scores_three_of_kind = get_value_score(three_of_kind)   \n",
    "        pair_full_house = []\n",
    "        if pairs:\n",
    "            pair_full_house.append(scores_pairs[-1])\n",
    "        if len(three_of_kind) > 1:\n",
    "            pair_full_house.append(scores_three_of_kind[-2])\n",
    "        combination = Combination('Full House', 6, scores_three_of_kind[-1], max(pair_full_house))\n",
    "    #Flush\n",
    "    elif flush_flag:\n",
    "        flush_score = max(flush)\n",
    "        combination = Combination('Flush', 5, flush_score[0], flush_score[1])\n",
    "    #Straight\n",
    "    elif len(straight_set) >= 5 and str_score != 0:\n",
    "        straight_flag = 1\n",
    "        combination = Combination('Straight', 4, str_score, straight_set)\n",
    "    #Three of Kind\n",
    "    elif three_of_kind:\n",
    "        scores_three_of_kind = get_value_score(three_of_kind)\n",
    "        combination = Combination('Three of a Kind', 3, scores_three_of_kind[-1], scores_three_of_kind)\n",
    "    #Two Pairs\n",
    "    elif len(pairs) >= 2:\n",
    "        combination = Combination('Two Pairs', 2, scores_pairs[-1], scores_pairs[-2])\n",
    "    #Pair\n",
    "    elif pairs:\n",
    "        combination = Combination('Pair', 1, scores_pairs[-1], scores_pairs)\n",
    "    else:\n",
    "        combination = Combination('Highest Card', 0, max(kicker1, kicker2), '0')\n",
    "\n",
    "    if straight_flag or flush_flag or full_house_flag:\n",
    "        combination.append_kicker(0)\n",
    "    elif combination.score == kicker1:\n",
    "        combination.append_kicker(kicker2)\n",
    "    else:\n",
    "        combination.append_kicker(kicker1)\n",
    "    combination.append_player(player)\n",
    "    return combination"
   ]
  },
  {
   "cell_type": "code",
   "execution_count": null,
   "metadata": {},
   "outputs": [],
   "source": [
    "def get_table_combinations(dict_values, dict_suits):\n",
    "    combinations = {'Pairs_table' : 0, 'Three of a Kind_table' : 0, 'Straight_table' : 0, 'Flush_table' : '', 'Four of a Kind_table' : 0}\n",
    "    straight_set = set(dict_values.keys())\n",
    "\n",
    "    pairs, three_of_kind, four_of_kind = '', '', ''\n",
    "    flush = []\n",
    "    flush_flag, straight_flag, full_house_flag = 0, 0, 0\n",
    "\n",
    "    for key, value in dict_values.items():\n",
    "        if value == 2:\n",
    "            pairs += key\n",
    "        if value == 3:\n",
    "            three_of_kind += key\n",
    "        if value == 4:\n",
    "            four_of_kind += key\n",
    "\n",
    "    for key, value in dict_suits.items():\n",
    "        if len(value) >= 5:\n",
    "            flush_flag = 1\n",
    "            flush.append(key)\n",
    "\n",
    "    scores_pairs = get_value_score(pairs)         \n",
    "    str_scores = get_straight_scores(straight_set)\n",
    "    scores_three_of_kind = get_value_score(three_of_kind)   \n",
    "\n",
    "    #Four of a Kind\n",
    "    if four_of_kind:\n",
    "        scores_four_of_kind = get_value_score(four_of_kind)\n",
    "        combinations['Four of a Kind_table'] = scores_four_of_kind\n",
    "    #Flush\n",
    "    if flush_flag:\n",
    "        combinations['Flush_table'] = flush\n",
    "    #Straight\n",
    "    if len(straight_set) >= 5 and str_scores != []:\n",
    "        combinations['Straight_table'] = str_scores\n",
    "    #Three of Kind\n",
    "    if three_of_kind:\n",
    "        combinations['Three of a Kind_table'] = scores_three_of_kind\n",
    "    #Pair\n",
    "    if pairs:\n",
    "        combinations['Pairs_table'] = scores_pairs\n",
    "\n",
    "    return combinations"
   ]
  },
  {
   "attachments": {},
   "cell_type": "markdown",
   "metadata": {},
   "source": [
    "FUNCTION: return winners as an array of Combination object"
   ]
  },
  {
   "cell_type": "code",
   "execution_count": null,
   "metadata": {},
   "outputs": [],
   "source": [
    "def get_winners(combinations):\n",
    "\n",
    "    max_combination, max_score, max_kicker, max_pair, max_kicker1, max_kicker2 = 0, 0, 0, 0, 0, 0\n",
    "    combination_winners, score_winners, second_pair, winners, kicker1_winners = [], [], [], [], []\n",
    "    # get score of max combination\n",
    "    for i in range(len(combinations)):\n",
    "        if combinations[i].combination_score >= max_combination:\n",
    "            max_combination = combinations[i].combination_score\n",
    "            winning_combination = combinations[i].combination_name\n",
    "    # get list of players with max combination\n",
    "    for i in range(len(combinations)):\n",
    "        if combinations[i].combination_score == max_combination:\n",
    "            combination_winners.append(combinations[i])\n",
    "            \n",
    "    if len(combination_winners) > 1:\n",
    "        # get max score of combination\n",
    "        for i in range(len(combination_winners)):\n",
    "            if combination_winners[i].score > max_score:\n",
    "                max_score = combination_winners[i].score\n",
    "        # get list of players with max combination\n",
    "        for i in range(len(combination_winners)):\n",
    "            if combination_winners[i].score == max_score:\n",
    "                score_winners.append(combination_winners[i])\n",
    "\n",
    "        if len(score_winners) > 1:\n",
    "            if (winning_combination != 'Full House') & (winning_combination != 'Two Pairs'):\n",
    "                for i in range(len(score_winners)):\n",
    "                    if score_winners[i].kicker > max_kicker:\n",
    "                        max_kicker = score_winners[i].kicker\n",
    "                for i in range(len(score_winners)):\n",
    "                    if score_winners[i].kicker == max_kicker:\n",
    "                        winners.append(score_winners[i])\n",
    "            else:\n",
    "                for i in range(len(score_winners)):\n",
    "                    if score_winners[i].bonus > max_pair:\n",
    "                        max_pair = score_winners[i].bonus\n",
    "                for i in range(len(score_winners)):\n",
    "                    if score_winners[i].bonus == max_pair:\n",
    "                        second_pair.append(score_winners[i])\n",
    "                if len(second_pair) > 1:\n",
    "                    for i in range(len(second_pair)):\n",
    "                        if second_pair[i].kicker > max_kicker:\n",
    "                            max_kicker = second_pair[i].kicker\n",
    "                    for i in range(len(second_pair)):    \n",
    "                        if second_pair[i].kicker == max_kicker:\n",
    "                            winners.append(second_pair[i])\n",
    "                else:\n",
    "                    winners = second_pair\n",
    "        else:\n",
    "            winners = score_winners\n",
    "    else:\n",
    "        winners = combination_winners  \n",
    "    return winners"
   ]
  },
  {
   "attachments": {},
   "cell_type": "markdown",
   "metadata": {},
   "source": [
    "FUNCTION: create dataframe with winning combination and winner"
   ]
  },
  {
   "cell_type": "code",
   "execution_count": null,
   "metadata": {},
   "outputs": [],
   "source": [
    "def create_winner_df(encoded_arr):\n",
    "    df = pd.DataFrame(columns = ['P1_COMB', 'P1_SCORE', 'P1_BONUS', 'KICKER_P1', 'P2_COMB', 'P2_SCORE', 'P2_BONUS', 'KICKER_P2', 'P3_COMB', 'P3_SCORE', 'P3_BONUS',\n",
    "                                 'KICKER_P3', 'P4_COMB', 'P4_SCORE', 'P4_BONUS',  'KICKER_P4', 'P5_COMB', 'P5_SCORE', 'P5_BONUS', 'KICKER_P5', 'P6_COMB', \n",
    "                                 'P6_SCORE', 'P6_BONUS', 'KICKER_P6', 'WINNING COMBINATION', 'WINNER SCORE', 'WINNER', 'BONUS'])\n",
    "    for i in range(len(encoded_arr)):\n",
    "\n",
    "        row, combinations, win_players = [], [], []\n",
    "        table = get_players_values_suits_dict(encoded_arr[i])\n",
    "        \n",
    "        for j in range(len(table)):\n",
    "            combination = get_player_combination(table[j].values, table[j].suits, 'P' + str(j + 1))\n",
    "            row.append(combination.combination_name)\n",
    "            row.append(combination.score)\n",
    "            row.append(combination.bonus)\n",
    "            row.append(combination.kicker)\n",
    "            combinations.append(combination)\n",
    "        \n",
    "        winners = get_winners(combinations)\n",
    "        row.append(winners[0].combination_name)\n",
    "        row.append(winners[0].score)\n",
    "        if len(winners) > 1:\n",
    "            for k in range(len(winners)):\n",
    "                win_players.append(winners[k].player)\n",
    "            row.append(win_players)\n",
    "            row.append(winners[0].bonus)\n",
    "        else:\n",
    "            row.append(winners[0].player)\n",
    "            row.append(winners[0].bonus)\n",
    "        df.loc[i] = row\n",
    "    return df"
   ]
  },
  {
   "cell_type": "code",
   "execution_count": null,
   "metadata": {},
   "outputs": [],
   "source": [
    "def clean_arr(arr):\n",
    "    new_arr = []\n",
    "    s = list(set(arr))\n",
    "    for i in range(len(s)):\n",
    "        if s[i] != 0:\n",
    "            new_arr.append(s[i])\n",
    "    return new_arr"
   ]
  },
  {
   "cell_type": "code",
   "execution_count": null,
   "metadata": {},
   "outputs": [],
   "source": [
    "def create_combinations_df(encoded_arr):\n",
    "    df = pd.DataFrame()\n",
    "    df_players_comb = pd.DataFrame()\n",
    "    dicts = []\n",
    "    dicts_players = []\n",
    "    for i in range(len(encoded_arr)):\n",
    "        players_dict = {}\n",
    "        com_vals, com_suits = get_community_values_suits_dict(encoded_arr[i])\n",
    "        combinations = get_table_combinations(com_vals, com_suits)\n",
    "        table = get_players_values_suits_dict(encoded_arr[i])\n",
    "        for j in range(len(table)):\n",
    "            combination = get_player_combination(table[j].values, table[j].suits, 'P' + str(j + 1))\n",
    "            if combination.combination_name in players_dict:\n",
    "                arr = players_dict[combination.combination_name]\n",
    "                if combination.combination_name == 'Flush':\n",
    "                    arr.append(combination.bonus)\n",
    "                else:\n",
    "                    arr.append(combination.score)\n",
    "                players_dict[combination.combination_name] = clean_arr(arr)\n",
    "            else:\n",
    "                if combination.combination_name == 'Flush':\n",
    "                     players_dict[combination.combination_name] = [combination.bonus]\n",
    "                else:\n",
    "                    players_dict[combination.combination_name] = [combination.score]\n",
    "        dicts_players.append(players_dict)\n",
    "        dicts.append(combinations)\n",
    "    df = df.append(dicts, ignore_index=True, sort=False)\n",
    "    df_players_comb = df_players_comb.append(dicts_players, ignore_index=True, sort=False)\n",
    "    return df, df_players_comb"
   ]
  },
  {
   "cell_type": "code",
   "execution_count": null,
   "metadata": {},
   "outputs": [],
   "source": [
    "def create_pl_combinations_df(encoded_arr):\n",
    "    df = pd.DataFrame()\n",
    "    dicts = []\n",
    "    for i in range(len(encoded_arr)):\n",
    "        com_vals, com_suits = get_community_values_suits_dict(encoded_arr[i])\n",
    "        combinations = get_table_combinations(com_vals, com_suits)\n",
    "        dicts.append(combinations)\n",
    "    df = df.append(dicts, ignore_index=True, sort=False)\n",
    "    return df"
   ]
  },
  {
   "attachments": {},
   "cell_type": "markdown",
   "metadata": {},
   "source": [
    "FUNCTION: correct winner players for full dataframe "
   ]
  },
  {
   "cell_type": "code",
   "execution_count": null,
   "metadata": {},
   "outputs": [],
   "source": [
    "def correct_players_full(win_df_full):\n",
    "    win_df_full.iloc[365, 20] = 'P2'\n",
    "    win_df_full.iloc[486, 20] = 'P2'\n",
    "    win_df_full.iloc[527, 20] = 'P5'\n",
    "    win_df_full.iloc[780, 20] = 'P3'\n",
    "    win_df_full.iloc[848, 20] = 'P1'\n",
    "    win_df_full.iloc[897, 20] = 'P5'\n",
    "    win_df_full.iloc[974, 20] = 'P4'\n",
    "    win_df_full.iloc[1248, 20] = 'P3'\n",
    "    win_df_full.iloc[1291, 20] = 'P2P5'\n",
    "    win_df_full.iloc[1640, 20] = 'P3'\n",
    "    win_df_full.iloc[1807, 20] = 'P6'\n",
    "    win_df_full.iloc[2023, 20] = 'P3'\n",
    "    win_df_full.iloc[2065, 20] = 'P4'\n",
    "    return win_df_full"
   ]
  },
  {
   "attachments": {},
   "cell_type": "markdown",
   "metadata": {},
   "source": [
    "FUNCTION: check occasional duplicates in dataframe"
   ]
  },
  {
   "cell_type": "code",
   "execution_count": null,
   "metadata": {},
   "outputs": [],
   "source": [
    "def check_dublicates(df_tables_full):\n",
    "    for i in range(len(df_tables_full)):\n",
    "        if (len(df_tables_full.loc[i]) - list(df_tables_full.loc[i]).count('0') - len(np.array(np.unique(df_tables_full.loc[i].values)))) > 0:\n",
    "            print(i, df_tables_full.loc[i])"
   ]
  },
  {
   "attachments": {},
   "cell_type": "markdown",
   "metadata": {},
   "source": [
    "FUNCTION: ind rows with players mistakes "
   ]
  },
  {
   "cell_type": "code",
   "execution_count": null,
   "metadata": {},
   "outputs": [],
   "source": [
    "def find_winner_errors(win_df_full):\n",
    "    errors_df = win_df_full[(win_df_full['WINNER'] != 'P1')  & (win_df_full['WINNER'] != 'P2') & (win_df_full['WINNER'] != 'P3') & (win_df_full['WINNER'] != 'P4') & (win_df_full['WINNER'] != 'P5') & (win_df_full['WINNER'] != 'P6')]\n",
    "    errors_df_full = errors_df[(errors_df['WINNING COMBINATION'] == 'Pair') | (errors_df['WINNING COMBINATION'] == 'Two Pairs')]\n",
    "    return errors_df_full"
   ]
  },
  {
   "cell_type": "code",
   "execution_count": null,
   "metadata": {},
   "outputs": [],
   "source": [
    "def count_cards_num(arr):\n",
    "    count = 0\n",
    "    for i in range(len(arr)):\n",
    "        if arr[i] != '0':\n",
    "            count += 1\n",
    "    return count "
   ]
  },
  {
   "attachments": {},
   "cell_type": "markdown",
   "metadata": {},
   "source": [
    "# DATA "
   ]
  },
  {
   "attachments": {},
   "cell_type": "markdown",
   "metadata": {},
   "source": [
    "Create dataframe with cards only - df_tables_full"
   ]
  },
  {
   "cell_type": "markdown",
   "metadata": {},
   "source": [
    " Make slices for presened flop only, turn, river, no community cards and all players "
   ]
  },
  {
   "cell_type": "code",
   "execution_count": null,
   "metadata": {},
   "outputs": [],
   "source": [
    "df_tables_full = data\n",
    "\n",
    "df_tables_river = df_tables_full[df_tables_full.River != '0']\n",
    "df_tables_turn = df_tables_full[(df_tables_full.Turn  != '0') & (df_tables_full.River == '0')]\n",
    "df_tables_flop = df_tables_full[(df_tables_full.Flop1 != '0') & (df_tables_full.Turn  == '0')]\n",
    "df_tables_community = df_tables_full[(df_tables_full.Flop1 != '0')]\n",
    "df_tables_no_community = df_tables_full[df_tables_full.Flop1 == '0']\n",
    "df_tables_all_players = df_tables_full[(df_tables_full.P1H2 != '0') & (df_tables_full.P2H2 != '0') & (df_tables_full.P3H2 != '0') & (df_tables_full.P4H2 != '0') & (df_tables_full.P5H2 != '0') & (df_tables_full.P6H2 != '0')]\n",
    "df_tables_all_players_no_community = df_tables_all_players[df_tables_all_players.Flop1 == '0']"
   ]
  },
  {
   "cell_type": "code",
   "execution_count": null,
   "metadata": {},
   "outputs": [],
   "source": [
    "arr_counts = []\n",
    "for i in range(len(df_tables_full)):\n",
    "    arr_counts.append(count_cards_num(df_tables_full.loc[i]))"
   ]
  },
  {
   "attachments": {},
   "cell_type": "markdown",
   "metadata": {},
   "source": [
    "Encode dataframe slices to 2D array "
   ]
  },
  {
   "cell_type": "code",
   "execution_count": null,
   "metadata": {},
   "outputs": [],
   "source": [
    "encoded_mtrx_full = encode_df_cards(df_tables_full)\n",
    "encoded_mtrx_river = encode_df_cards(df_tables_river)\n",
    "encoded_mtrx_turn = encode_df_cards(df_tables_turn)\n",
    "encoded_mtrx_flop = encode_df_cards(df_tables_flop)\n",
    "encoded_mtrx_community = encode_df_cards(df_tables_community)\n",
    "encoded_mtrx_no_community = encode_df_cards(df_tables_no_community)\n",
    "encoded_mtrx_all_players = encode_df_cards(df_tables_all_players)\n",
    "encoded_mtrx_all_players_no_community = encode_df_cards(df_tables_all_players_no_community)"
   ]
  },
  {
   "attachments": {},
   "cell_type": "markdown",
   "metadata": {},
   "source": [
    "# Tests"
   ]
  },
  {
   "cell_type": "code",
   "execution_count": null,
   "metadata": {},
   "outputs": [],
   "source": [
    "pd.set_option('display.max_rows', 2100)\n",
    "pd.set_option('display.max_columns', 50)"
   ]
  },
  {
   "attachments": {},
   "cell_type": "markdown",
   "metadata": {},
   "source": [
    "# All players corrected df"
   ]
  },
  {
   "cell_type": "code",
   "execution_count": null,
   "metadata": {},
   "outputs": [],
   "source": [
    "win_df_full = create_winner_df(encoded_mtrx_full)\n",
    "win_df_flop = create_winner_df(encoded_mtrx_flop)\n",
    "win_df_turn = create_winner_df(encoded_mtrx_turn)\n",
    "win_df_river = create_winner_df(encoded_mtrx_river)\n",
    "win_df_community = create_winner_df(encoded_mtrx_community)\n",
    "win_df_all_players = create_winner_df(encoded_mtrx_all_players)\n",
    "win_df_no_community = create_winner_df(encoded_mtrx_no_community)\n",
    "win_df_all_players_no_community = create_winner_df(encoded_mtrx_all_players_no_community)"
   ]
  },
  {
   "cell_type": "code",
   "execution_count": null,
   "metadata": {},
   "outputs": [],
   "source": [
    "df_player1_combinations = create_pl_combinations_df(df_player1)\n",
    "df_player2_combinations = create_pl_combinations_df(df_player2)\n",
    "df_player3_combinations = create_pl_combinations_df(df_player3)\n",
    "df_player4_combinations = create_pl_combinations_df(df_player4)\n",
    "df_player5_combinations = create_pl_combinations_df(df_player5)\n",
    "df_player6_combinations = create_pl_combinations_df(df_player6)"
   ]
  },
  {
   "cell_type": "code",
   "execution_count": null,
   "metadata": {},
   "outputs": [],
   "source": [
    "flop_flag = []\n",
    "for i in range(1, len(data)):\n",
    "    if data.iloc[i, 12] != '0':\n",
    "        flop_flag.append(1)\n",
    "    else:\n",
    "        flop_flag.append(0)"
   ]
  },
  {
   "cell_type": "code",
   "execution_count": null,
   "metadata": {},
   "outputs": [],
   "source": [
    "df_counts = pd.DataFrame(index=[2,3,\t4,\t5,\t6,\t7,\t8,\t9,\t10,\t11,12,13,14], columns = ['Three of a Kind', 'Full House', 'Four of a Kind'])\n",
    "df_counts['Pair'] = [243,\t246,\t264,\t223\t,238,\t278\t,276\t,233,\t265\t,249\t,265\t,290\t,298]\n",
    "df_counts['Two Pairs'] = [0,\t13\t,38\t,43\t,80\t,94\t,117,\t95,\t141\t,155\t,168\t,262,277]\n",
    "df_counts['Three of a Kind'] = [26\t,23\t,22,\t28\t,21,\t35\t,40,\t17,\t24,\t25,\t23,\t37,\t32]\n",
    "df_counts['Full House'] = [8\t,9\t,10\t,27,\t8,\t20,\t27,\t11\t,12\t,12,\t9,\t17\t,18]\n",
    "df_counts['Four of a Kind'] = [0\t,0\t,0\t,3,\t0,\t0\t,4\t,0\t,3,\t1\t,3\t,3\t,1]\n",
    "# sns.barplot(x = df_counts.index, y = df_counts['Three of a Kind'])\n",
    "sns.barplot(x = df_counts.index, y = df_counts['Three of a Kind'])\n",
    "plt.show()"
   ]
  },
  {
   "cell_type": "code",
   "execution_count": null,
   "metadata": {},
   "outputs": [],
   "source": [
    "df_player1_combinations['players comb'] = win_df_full.iloc[1:, 0].reset_index(drop=True)\n",
    "df_player1_combinations['score'] = win_df_full.iloc[1:, 1].reset_index(drop=True)\n",
    "df_player1_combinations['bonus'] = win_df_full.iloc[1:, 2].reset_index(drop=True)\n",
    "df_player1_combinations['flop flag'] = flop_flag\n",
    "df_player1_combinations.replace('', '0', inplace=True)\n",
    "# df_player1_combinations[df_player1_combinations['players comb'] == 'Flush']\n",
    "\n",
    "df_player2_combinations['players comb'] = win_df_full.iloc[1:, 4].reset_index(drop=True)\n",
    "df_player2_combinations['score'] = win_df_full.iloc[1:, 5].reset_index(drop=True)\n",
    "df_player2_combinations['bonus'] = win_df_full.iloc[1:, 6].reset_index(drop=True)\n",
    "df_player2_combinations['flop flag'] = flop_flag\n",
    "df_player2_combinations.replace('', '0', inplace=True)\n",
    "\n",
    "df_player3_combinations['players comb'] = win_df_full.iloc[1:, 8].reset_index(drop=True)\n",
    "df_player3_combinations['score'] = win_df_full.iloc[1:, 9].reset_index(drop=True)\n",
    "df_player3_combinations['bonus'] = win_df_full.iloc[1:, 10].reset_index(drop=True)\n",
    "df_player3_combinations['flop flag'] = flop_flag\n",
    "df_player3_combinations.replace('', '0', inplace=True)\n",
    "\n",
    "df_player4_combinations['players comb'] = win_df_full.iloc[1:, 12].reset_index(drop=True)\n",
    "df_player4_combinations['score'] = win_df_full.iloc[1:, 13].reset_index(drop=True)\n",
    "df_player4_combinations['bonus'] = win_df_full.iloc[1:, 14].reset_index(drop=True)\n",
    "df_player4_combinations['flop flag'] = flop_flag\n",
    "df_player4_combinations.replace('', '0', inplace=True)\n",
    "\n",
    "df_player5_combinations['players comb'] = win_df_full.iloc[1:, 16].reset_index(drop=True)\n",
    "df_player5_combinations['score'] = win_df_full.iloc[1:, 17].reset_index(drop=True)\n",
    "df_player5_combinations['bonus'] = win_df_full.iloc[1:, 18].reset_index(drop=True)\n",
    "df_player5_combinations['flop flag'] = flop_flag\n",
    "df_player5_combinations.replace('', '0', inplace=True)\n",
    "\n",
    "df_player6_combinations['players comb'] = win_df_full.iloc[1:, 20].reset_index(drop=True)\n",
    "df_player6_combinations['score'] = win_df_full.iloc[1:, 21].reset_index(drop=True)\n",
    "df_player6_combinations['bonus'] = win_df_full.iloc[1:, 22].reset_index(drop=True)\n",
    "df_player6_combinations['flop flag'] = flop_flag\n",
    "df_player6_combinations.replace('', '0', inplace=True)"
   ]
  },
  {
   "cell_type": "code",
   "execution_count": null,
   "metadata": {},
   "outputs": [],
   "source": [
    "df = pd.concat([df_player1_combinations, df_player2_combinations, df_player3_combinations, df_player4_combinations, df_player5_combinations, df_player6_combinations]).reset_index(drop= True)"
   ]
  },
  {
   "cell_type": "code",
   "execution_count": null,
   "metadata": {},
   "outputs": [],
   "source": [
    "def straight_df(df):  \n",
    "    df_straight = pd.DataFrame(columns = ['score_5', 'score_6', 'score_7', 'score_8', 'score_9', 'score_10', 'score_11', 'score_12', 'score_13', 'score_14'])\n",
    "    for i in range(len(df)):\n",
    "        arr_scores = [0, 0, 0, 0, 0, 0, 0, 0, 0, 0]\n",
    "        arr = df.iloc[i, 2]\n",
    "        if arr != 0:\n",
    "            for j in range(len(arr)):\n",
    "                if arr[j] == 5:\n",
    "                    arr_scores[0] = 1\n",
    "                if arr[j] == 6:\n",
    "                    arr_scores[1] = 1\n",
    "                if arr[j] == 7:\n",
    "                    arr_scores[2] = 1\n",
    "                if arr[j] == 8:\n",
    "                    arr_scores[3] = 1\n",
    "                if arr[j] == 9:\n",
    "                    arr_scores[4] = 1\n",
    "                if arr[j] == 10:\n",
    "                    arr_scores[5] = 1\n",
    "                if arr[j] == 11:\n",
    "                    arr_scores[6] = 1\n",
    "                if arr[j] == 12:\n",
    "                    arr_scores[7] = 1\n",
    "                if arr[j] == 13:\n",
    "                    arr_scores[8] = 1\n",
    "                if arr[j] == 14:\n",
    "                    arr_scores[9] = 1\n",
    "        # print(arr_scores)\n",
    "        df_straight.loc[i] = arr_scores\n",
    "    df_straight = df_straight[df['flop flag'] == 1]\n",
    "    return (df_straight)"
   ]
  },
  {
   "cell_type": "code",
   "execution_count": null,
   "metadata": {},
   "outputs": [],
   "source": [
    "straight = df[df['players comb'] == 'Straight']"
   ]
  },
  {
   "cell_type": "code",
   "execution_count": null,
   "metadata": {},
   "outputs": [],
   "source": [
    "df = straight_df(df)"
   ]
  },
  {
   "cell_type": "code",
   "execution_count": null,
   "metadata": {},
   "outputs": [],
   "source": [
    "df_XY = pd.merge(df, straight['score'], left_index = True, right_index=True, how = 'left').fillna(0)"
   ]
  },
  {
   "cell_type": "code",
   "execution_count": null,
   "metadata": {},
   "outputs": [],
   "source": [
    "X = df_XY.iloc[:, :10]\n",
    "y = df_XY['score']"
   ]
  },
  {
   "cell_type": "code",
   "execution_count": null,
   "metadata": {},
   "outputs": [],
   "source": [
    "from sklearn.model_selection import train_test_split\n",
    "\n",
    "X_train, X_test, y_train, y_test = train_test_split(X, y, test_size=0.25, random_state=16)\n",
    "\n",
    "from sklearn.linear_model import LogisticRegression\n",
    "\n",
    "# instantiate the model (using the default parameters)\n",
    "logreg = LogisticRegression(random_state=16)\n",
    "\n",
    "# fit the model with data\n",
    "logreg.fit(X_train, y_train)\n",
    "\n",
    "y_pred = logreg.predict(X_test)"
   ]
  },
  {
   "cell_type": "code",
   "execution_count": null,
   "metadata": {},
   "outputs": [],
   "source": [
    "from sklearn.metrics import classification_report\n",
    "target_names = ['score']\n",
    "print(classification_report(y_test, y_pred))"
   ]
  },
  {
   "cell_type": "code",
   "execution_count": null,
   "metadata": {},
   "outputs": [],
   "source": [
    "def matches(df_flush, pred, real):\n",
    "    flush_matches = []\n",
    "    for i in range(len(df_flush)):\n",
    "        if df_flush.iloc[i, real] != 0 and df_flush.iloc[i, pred] != 0:\n",
    "            if df_flush.iloc[i, real] in df_flush.iloc[i, pred]:\n",
    "                flush_matches.append(1)\n",
    "            else:\n",
    "                flush_matches.append(-1)\n",
    "        else:\n",
    "            flush_matches.append(0)\n",
    "    df_flush['match'] = flush_matches\n",
    "    unique, counts_flush = np.unique(flush_matches, return_counts=True)\n",
    "    return unique, counts_flush"
   ]
  },
  {
   "cell_type": "code",
   "execution_count": null,
   "metadata": {},
   "outputs": [],
   "source": [
    "matches(df_player1_combinations, 2, 6)"
   ]
  },
  {
   "cell_type": "code",
   "execution_count": null,
   "metadata": {},
   "outputs": [],
   "source": [
    "df_combination, df_players = create_combinations_df(encoded_mtrx_full)\n",
    "df_players = df_players.fillna(0)\n",
    "df_players.loc[len(df_players)] = df_players.loc[len(df_players) - 1]\n",
    "df_players = df_players[1:].reset_index(drop = True)\n",
    "df_players = df_players.fillna(0)\n",
    "df_combinations = pd.concat([df_combination, df_players], axis = 1)\n",
    "df_combinations = df_combinations.reindex(columns=['Pair', 'Two Pairs', 'Pairs_table', 'Three of a Kind', 'Three of a Kind_table', 'Straight', 'Straight_table', 'Flush', 'Flush_table', \n",
    "                                                                              'Four of a Kind', 'Four of a Kind_table', 'Full House'])\n",
    "df_combinations['cards count'] = arr_counts"
   ]
  },
  {
   "cell_type": "code",
   "execution_count": null,
   "metadata": {},
   "outputs": [],
   "source": [
    "win_df_full[win_df_full['WINNING COMBINATION'] == 'Straight']"
   ]
  },
  {
   "cell_type": "code",
   "execution_count": null,
   "metadata": {},
   "outputs": [],
   "source": [
    "df_combinations"
   ]
  },
  {
   "cell_type": "code",
   "execution_count": null,
   "metadata": {},
   "outputs": [],
   "source": [
    "df_flush = df_combinations[df_combinations.Flush != 0]\n",
    "df_pair = df_combinations[df_combinations.Pair != 0]\n",
    "df_pair = df_pair[['Pair', 'Pairs_table']]"
   ]
  },
  {
   "cell_type": "code",
   "execution_count": null,
   "metadata": {},
   "outputs": [],
   "source": [
    "def match(df):   \n",
    "    matches = []\n",
    "    for i in range(len(df)):\n",
    "        if df.iloc[i, 1] != 0:\n",
    "            if df.iloc[i, 0] in df.iloc[i, 1]:\n",
    "                matches.append(1)\n",
    "            else:\n",
    "                matches.append(-1)\n",
    "        else:\n",
    "            matches.append(0)\n",
    "    df['match'] = matches\n",
    "    return df\n",
    "    # unique, counts_flush = np.unique(matches, return_counts=True)"
   ]
  },
  {
   "cell_type": "code",
   "execution_count": null,
   "metadata": {},
   "outputs": [],
   "source": [
    "flush_matches = []\n",
    "for i in range(len(df_flush)):\n",
    "    if df_flush.iloc[i, 7] != 0:\n",
    "        if df_flush.iloc[i, 7][0] in df_flush.iloc[i, 8]:\n",
    "            flush_matches.append(1)\n",
    "        else:\n",
    "            flush_matches.append(-1)\n",
    "    else:\n",
    "        flush_matches.append(0)\n",
    "df_flush['match'] = flush_matches\n",
    "unique, counts_flush = np.unique(flush_matches, return_counts=True)"
   ]
  },
  {
   "cell_type": "code",
   "execution_count": null,
   "metadata": {},
   "outputs": [],
   "source": [
    "straight_matches = []\n",
    "for i in range(len(df_combinations)):\n",
    "    if df_combinations.iloc[i, 5] != 0 and df_combinations.iloc[i, 6] != 0:\n",
    "        if df_combinations.iloc[i, 5][0] in df_combinations.iloc[i, 6]:\n",
    "            straight_matches.append(1)\n",
    "        else:\n",
    "            straight_matches.append(-1)\n",
    "    else:\n",
    "        straight_matches.append(0)\n",
    "unique, counts_straight = np.unique(straight_matches, return_counts=True)"
   ]
  },
  {
   "cell_type": "code",
   "execution_count": null,
   "metadata": {},
   "outputs": [],
   "source": [
    "list_df_slices = list()\n",
    "list_df_slices.append(win_df_full[0:48])"
   ]
  },
  {
   "cell_type": "code",
   "execution_count": null,
   "metadata": {},
   "outputs": [],
   "source": [
    "for i in range(len(games_indexes) - 1):\n",
    "    df = win_df_full.loc[games_indexes[i]:games_indexes[i+1]]\n",
    "    list_df_slices.append(df)"
   ]
  },
  {
   "cell_type": "code",
   "execution_count": null,
   "metadata": {},
   "outputs": [],
   "source": [
    "errors_all_players = find_winner_errors(win_df_all_players)\n",
    "errors_all_players"
   ]
  },
  {
   "cell_type": "code",
   "execution_count": null,
   "metadata": {},
   "outputs": [],
   "source": [
    "win_df_all_players.iloc[264, 20] = 'P3'\n",
    "win_df_all_players.iloc[311, 20] = 'P4'"
   ]
  },
  {
   "cell_type": "code",
   "execution_count": null,
   "metadata": {},
   "outputs": [],
   "source": [
    "without_highest_card = win_df_all_players[win_df_all_players['WINNING COMBINATION'] != 'Highest Card']"
   ]
  },
  {
   "cell_type": "code",
   "execution_count": null,
   "metadata": {},
   "outputs": [],
   "source": [
    "df_karmanka = win_df_all_players_no_community[win_df_all_players_no_community['WINNING COMBINATION'] == 'Pair']\n",
    "df_karmanka['WINNER'].value_counts()"
   ]
  },
  {
   "cell_type": "code",
   "execution_count": null,
   "metadata": {},
   "outputs": [],
   "source": [
    "df_highest_card = win_df_all_players_no_community[win_df_all_players_no_community['WINNING COMBINATION'] == 'Highest Card']\n",
    "df_highest_card['WINNER'].value_counts()"
   ]
  },
  {
   "cell_type": "code",
   "execution_count": null,
   "metadata": {},
   "outputs": [],
   "source": [
    "da = pd.DataFrame({'Total Variation distance': [1.00000\t,1.00000\t,1.00000,\t0.99999,\t0.92414,\t0.61411,\t0.33551,\t0.16755,\t0.08517,\t0.04258], \n",
    "                   'Threshold' : [0.33551, 0.33551, 0.33551, 0.33551, 0.33551, 0.33551, 0.33551, 0.33551, 0.33551, 0.33551]}, index = ['1 riffle', '2 riffles', '3 riffles', '4 riffles', '5 riffles', '6 riffles',\n",
    "                                                                                                                                       '7 riffles', '8 riffles', '9 riffles', '10 riffles'])\n",
    "sns.lineplot(data = da)\n",
    "plt.tight_layout()"
   ]
  },
  {
   "cell_type": "code",
   "execution_count": null,
   "metadata": {},
   "outputs": [],
   "source": [
    "p1 = win_df_community[win_df_community['P1_SCORE'] != 0].P1_COMB.value_counts().fillna(0)\n",
    "p2 = win_df_community[win_df_community['P2_SCORE'] != 0].P2_COMB.value_counts().fillna(0)\n",
    "p3 = win_df_community[win_df_community['P3_SCORE'] != 0].P3_COMB.value_counts().fillna(0)\n",
    "p4 = win_df_community[win_df_community['P4_SCORE'] != 0].P4_COMB.value_counts().fillna(0)\n",
    "p5 = win_df_community[win_df_community['P5_SCORE'] != 0].P5_COMB.value_counts().fillna(0)\n",
    "p6 = win_df_community[win_df_community['P6_SCORE'] != 0].P6_COMB.value_counts().fillna(0)"
   ]
  },
  {
   "cell_type": "code",
   "execution_count": null,
   "metadata": {},
   "outputs": [],
   "source": [
    "win_df_community.head()"
   ]
  },
  {
   "cell_type": "code",
   "execution_count": null,
   "metadata": {},
   "outputs": [],
   "source": [
    "d1 = win_df_community.iloc[:, :2].value_counts().to_frame('counts')\n",
    "d2 = win_df_community.iloc[:, 4:6].value_counts().to_frame('counts')\n",
    "d3 = win_df_community.iloc[:, 8:10].value_counts().to_frame('counts')\n",
    "d4 = win_df_community.iloc[:, 12:14].value_counts().to_frame('counts')\n",
    "d5 = win_df_community.iloc[:, 16:18].value_counts().to_frame('counts')\n",
    "d6 = win_df_community.iloc[:, 20:22].value_counts().to_frame('counts')"
   ]
  },
  {
   "cell_type": "code",
   "execution_count": null,
   "metadata": {},
   "outputs": [],
   "source": [
    "c = pd.concat([d1, d2, d3, d4, d5, d6], axis = 1).sum(axis = 1)\n",
    "c"
   ]
  },
  {
   "cell_type": "code",
   "execution_count": null,
   "metadata": {},
   "outputs": [],
   "source": [
    "comb_counts = np.array([3368, 1965, 1483, 353, 237, 236, 188, 18, 0, 0] )\n",
    "sum(comb_counts)"
   ]
  },
  {
   "cell_type": "code",
   "execution_count": null,
   "metadata": {},
   "outputs": [],
   "source": [
    "plt.figure(figsize=(10, 6))\n",
    "# comb_counts = [3368, 1483, 353, 237, 236, 188, 18, 0, 0]\n",
    "ax = sns.barplot(x = ['Pair', 'High Card', 'Two Pairs', 'Three of a Kind', 'Straight', 'Flush', 'Full House', 'Four of a Kind', 'Straight Flush', 'Royal Flush'], y = comb_counts / 7848 * 100, palette = 'rocket_r')\n",
    "plt.ylabel('Probability')\n",
    "ax.bar_label(ax.containers[0])\n",
    "plt.tight_layout()"
   ]
  },
  {
   "attachments": {},
   "cell_type": "markdown",
   "metadata": {},
   "source": [
    "# Winner distribution graph"
   ]
  },
  {
   "cell_type": "code",
   "execution_count": null,
   "metadata": {},
   "outputs": [],
   "source": [
    "win_counts = [110, 102, 101, 100, 96, 92]\n",
    "win_players = ['P3', 'P1', 'P2', 'P6', 'P5', 'P4']\n",
    "plt.bar(win_players, win_counts, color = ['rebeccapurple', 'darkslateblue', 'slateblue', 'mediumslateblue', 'mediumpurple', 'plum'])\n",
    "plt.title('WINNER DISTRIBUTION')"
   ]
  },
  {
   "cell_type": "code",
   "execution_count": null,
   "metadata": {},
   "outputs": [],
   "source": [
    "win_counts = [97, 87, 86, 78, 77, 77]\n",
    "win_players = ['P3', 'P6', 'P2', 'P1', 'P4', 'P5']\n",
    "plt.bar(win_players, win_counts, color = ['rebeccapurple', 'darkslateblue', 'slateblue', 'mediumslateblue', 'mediumpurple', 'plum'])\n",
    "plt.title('WINNER DISTRIBUTION WITHOUT HIGHEST CARD')"
   ]
  },
  {
   "cell_type": "code",
   "execution_count": null,
   "metadata": {},
   "outputs": [],
   "source": [
    "win_counts = [33, 27, 27, 27, 25, 23]\n",
    "win_players = ['P1', 'P3', 'P5', 'P4', 'P2', 'P6']\n",
    "plt.bar(win_players, win_counts, color = ['rebeccapurple', 'darkslateblue', 'slateblue', 'mediumslateblue', 'mediumpurple', 'plum'])\n",
    "plt.title('WINNER DISTRIBUTION WITHOUT COMMUNITY CARDS')"
   ]
  },
  {
   "cell_type": "code",
   "execution_count": null,
   "metadata": {},
   "outputs": [],
   "source": [
    "win_counts = [14, 13, 12, 10, 10, 9]\n",
    "win_players = ['P3', 'P4', 'P2', 'P5', 'P1', 'P6']\n",
    "plt.bar(win_players, win_counts, color = ['rebeccapurple', 'darkslateblue', 'slateblue', 'mediumslateblue', 'mediumpurple', 'plum'])\n",
    "plt.title('KARMANKA DISTRIBUTION')"
   ]
  },
  {
   "cell_type": "code",
   "execution_count": null,
   "metadata": {},
   "outputs": [],
   "source": [
    "win_counts = [23, 17, 14, 14, 14, 13]\n",
    "win_players = ['P1', 'P5', 'P4', 'P6', 'P2', 'P3']\n",
    "plt.bar(win_players, win_counts, color = ['rebeccapurple', 'darkslateblue', 'slateblue', 'mediumslateblue', 'mediumpurple', 'plum'])\n",
    "plt.title('HIGHEST CARD DISTRIBUTION')"
   ]
  },
  {
   "cell_type": "code",
   "execution_count": null,
   "metadata": {},
   "outputs": [],
   "source": [
    "fig, axes = plt.subplots(1, 1, figsize=(8,6))\n",
    "# fig = plt.figure(figsize=(7, 6))\n",
    "sns.barplot(x = win_df_river['WINNING COMBINATION'].value_counts().index, y =win_df_river['WINNING COMBINATION'].value_counts() / len(win_df_river), palette=\"rocket_r\")\n",
    "plt.ylabel('Probability')\n",
    "plt.title('RIVER')\n",
    "plt.xlabel('')\n",
    "# sns.countplot(ax = axes[0], data=win_df_flop, x='WINNING COMBINATION', palette=\"rocket_r\", order=win_df_flop['WINNING COMBINATION'].value_counts().index)\n",
    "# axes[0].set_title('FLOP')\n",
    "# sns.countplot(ax = axes[1], data=win_df_turn, x='WINNING COMBINATION', palette=\"rocket_r\", order=win_df_turn['WINNING COMBINATION'].value_counts().index)\n",
    "# axes[1].set_title('TURN')\n",
    "# sns.countplot(ax = axes[2], data=win_df_river, x='WINNING COMBINATION', palette=\"rocket_r\", order=win_df_river['WINNING COMBINATION'].value_counts().index)\n",
    "# axes[2].set_title('RIVER')\n",
    "plt.tight_layout()"
   ]
  },
  {
   "cell_type": "code",
   "execution_count": null,
   "metadata": {},
   "outputs": [],
   "source": [
    "P2 = 741 / 2538\n",
    "P1 = 720 / 2538\n",
    "P3 = 501 / (2538 - 375)\n",
    "P4 = 325 / (2538 - 925)\n",
    "P5 = 199 / (2538 - 1420)\n",
    "P6 = 121 / (2538 - 1850)\n",
    "players_counts = [P2, P1, P3, P4, P5, P6]"
   ]
  },
  {
   "cell_type": "code",
   "execution_count": null,
   "metadata": {},
   "outputs": [],
   "source": [
    "fig = plt.figure(figsize=(7, 6))\n",
    "sns.barplot(x = ['1', '2', '3', '4', '5', '6'],y = players_counts, palette=\"viridis_r\")\n",
    "plt.ylabel('Probability of winning')\n",
    "plt.xlabel('Position')"
   ]
  },
  {
   "attachments": {},
   "cell_type": "markdown",
   "metadata": {},
   "source": [
    "# Cards distribution by player graph"
   ]
  },
  {
   "attachments": {},
   "cell_type": "markdown",
   "metadata": {},
   "source": [
    "df_card_stats - dataframe of each card occurence for each player, flop, turn and river"
   ]
  },
  {
   "cell_type": "code",
   "execution_count": null,
   "metadata": {},
   "outputs": [],
   "source": [
    "def df_stats(df_tables_full):\n",
    "    df_card_count = pd.concat([df_tables_full['P1H1'].value_counts(), df_tables_full['P1H2'].value_counts(), df_tables_full['P2H1'].value_counts(), df_tables_full['P2H2'].value_counts(),\n",
    "                            df_tables_full['P3H1'].value_counts(), df_tables_full['P3H2'].value_counts(), df_tables_full['P4H1'].value_counts(), df_tables_full['P4H2'].value_counts(),\n",
    "                            df_tables_full['P5H1'].value_counts(), df_tables_full['P5H2'].value_counts(), df_tables_full['P6H1'].value_counts(), df_tables_full['P6H2'].value_counts(),\n",
    "                            df_tables_full['Flop1'].value_counts(),df_tables_full['Flop2'].value_counts(),df_tables_full['Flop3'].value_counts(), df_tables_full['Turn'].value_counts(), df_tables_full['River'].value_counts()], axis = 1)\n",
    "    df_card_count = df_card_count.fillna(0)\n",
    "\n",
    "    df_concat = pd.concat([df_card_count['P1H1'] + df_card_count['P1H2'], df_card_count['P2H1'] + df_card_count['P2H2'], df_card_count['P3H1'] + df_card_count['P3H2'],\n",
    "                        df_card_count['P4H1'] + df_card_count['P4H2'], df_card_count['P5H1'] + df_card_count['P5H2'], df_card_count['P6H1'] + df_card_count['P6H2'],\n",
    "                        df_card_count['Flop1'],  df_card_count['Flop2'], df_card_count['Flop3'], df_card_count['Turn'], df_card_count['River']], axis = 1)\n",
    "    df_card_stats = pd.DataFrame(df_concat, index=['AH', 'AC', 'AD', 'AS', 'KH', 'KC', 'KD', 'KS', 'QH', 'QC', 'QD', 'QS', 'JH', 'JC', 'JD', 'JS', 'TH', 'TC', 'TD', 'TS', \n",
    "                                                    '9H', '9C', '9D', '9S', '8H', '8C', '8D', '8S', '7H', '7C', '7D', '7S', '6H', '6C', '6D', '6S', '5H', '5C', '5D', '5S',\n",
    "                                                    '4H', '4C', '4D', '4S', '3H', '3C', '3D', '3S', '2H', '2C', '2D', '2S'])\n",
    "    df_card_stats = df_card_stats.set_axis(['PLAYER1', 'PLAYER2', 'PLAYER3', 'PLAYER4', 'PLAYER5', 'PLAYER6', 'FLOP1', 'FLOP2', 'FLOP3', 'TURN', 'RIVER'], axis=1, inplace=False)\n",
    "    return df_card_stats"
   ]
  },
  {
   "cell_type": "code",
   "execution_count": null,
   "metadata": {},
   "outputs": [],
   "source": [
    "df_card_stats = df_stats(df_tables_all_players)"
   ]
  },
  {
   "attachments": {},
   "cell_type": "markdown",
   "metadata": {},
   "source": [
    "Colors for ranks by groups: (A, K, Q, J, T), (9, 8, 7, 6) (5, 4, 3, 2)"
   ]
  },
  {
   "cell_type": "code",
   "execution_count": null,
   "metadata": {},
   "outputs": [],
   "source": [
    "deck_values_colors = ['indigo', 'indigo', 'indigo', 'indigo', 'blueviolet', 'blueviolet', 'blueviolet', 'blueviolet', 'slateblue', 'slateblue', 'slateblue',\n",
    "       'slateblue', 'mediumpurple', 'mediumpurple', 'mediumpurple', 'mediumpurple', 'plum', 'plum', 'plum', 'plum', 'aqua', 'aqua',\n",
    "       'aqua', 'aqua', 'turquoise', 'turquoise', 'turquoise', 'turquoise', 'mediumturquoise', 'mediumturquoise', 'mediumturquoise',\n",
    "       'mediumturquoise', 'lightseagreen', 'lightseagreen', 'lightseagreen', 'lightseagreen', 'khaki', 'khaki', 'khaki',\n",
    "       'khaki', 'lemonchiffon', 'lemonchiffon', 'lemonchiffon', 'lemonchiffon', 'palegoldenrod', 'palegoldenrod', 'palegoldenrod',\n",
    "       'palegoldenrod', 'darkkhaki', 'darkkhaki', 'darkkhaki','darkkhaki']"
   ]
  },
  {
   "cell_type": "code",
   "execution_count": null,
   "metadata": {},
   "outputs": [],
   "source": [
    "def cards_distribution_graph(df_card_stats):    \n",
    "    fig = plt.figure(figsize=(25, 30))\n",
    "    ax1 = fig.add_subplot(11, 1, 1)\n",
    "    ax1.bar(df_card_stats.index, df_card_stats.iloc[:, 0], color = deck_values_colors)\n",
    "    ax1.set_title(df_card_stats.columns[0])\n",
    "    for i in range(1, df_card_stats.shape[1]):\n",
    "        ax = fig.add_subplot(11, 1, i + 1, sharey = ax1)\n",
    "        ax.bar(df_card_stats.index, df_card_stats.iloc[:, i], color = deck_values_colors)\n",
    "        ax.set_title(df_card_stats.columns[i])\n",
    "    plt.tight_layout()"
   ]
  },
  {
   "cell_type": "code",
   "execution_count": null,
   "metadata": {},
   "outputs": [],
   "source": [
    "cards_distribution_graph(df_card_stats)"
   ]
  }
 ],
 "metadata": {
  "kernelspec": {
   "display_name": "Python 3",
   "language": "python",
   "name": "python3"
  },
  "language_info": {
   "codemirror_mode": {
    "name": "ipython",
    "version": 3
   },
   "file_extension": ".py",
   "mimetype": "text/x-python",
   "name": "python",
   "nbconvert_exporter": "python",
   "pygments_lexer": "ipython3",
   "version": "3.9.5"
  },
  "orig_nbformat": 4
 },
 "nbformat": 4,
 "nbformat_minor": 2
}
