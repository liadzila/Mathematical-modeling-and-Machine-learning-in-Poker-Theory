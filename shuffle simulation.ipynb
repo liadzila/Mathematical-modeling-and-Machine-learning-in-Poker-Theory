{
 "cells": [
  {
   "attachments": {},
   "cell_type": "markdown",
   "metadata": {},
   "source": [
    "# shuffle simulator"
   ]
  },
  {
   "cell_type": "code",
   "execution_count": null,
   "metadata": {},
   "outputs": [],
   "source": [
    "# import random\n",
    "# def overhandShuffle(va, passes):\n",
    "#     mainHand = list(va)\n",
    "#     for n in range(passes):\n",
    "#         otherHand = []\n",
    "#         while (len(mainHand) > 0):\n",
    "#             #cut at up to 20% of the way through the deck\n",
    "#             cutSize = random.randint(0, len(va) // 5) + 1\n",
    "#             temp = []\n",
    "\n",
    "#             #grab the next cut up to the end of the cards left in the main hand\n",
    "#             i=0\n",
    "#             while (i<cutSize and len(mainHand) > 0):\n",
    "#                 temp.append(mainHand.pop(0))\n",
    "#                 i = i + 1\n",
    "\n",
    "#             #add them to the cards in the other hand, sometimes to the front sometimes to the back\n",
    "#             if (random.uniform(0, 1) >= 0.1):\n",
    "#                 #front most of the time\n",
    "#                 otherHand = temp + otherHand\n",
    "#             else:\n",
    "#                 otherHand = otherHand + temp\n",
    "#         #move the cards back to the main hand\n",
    "#         mainHand = otherHand\n",
    "#     return mainHand"
   ]
  },
  {
   "cell_type": "code",
   "execution_count": null,
   "metadata": {},
   "outputs": [],
   "source": [
    "# def box_shuffle(deck):\n",
    "#     A = np.random.binomial(len(deck), 1 / 4, 1)[0]\n",
    "#     B = np.random.binomial(len(deck) - A, 1 / 3, 1)[0]\n",
    "#     C = np.random.binomial(len(deck) - A - B, 1 / 2, 1)[0]\n",
    "#     D = len(deck) - C - B - A\n",
    "    \n",
    "#     D_cards = deck[len(deck) - D:len(deck)]\n",
    "#     C_cards = deck[len(deck) - C - D:len(deck) - D]\n",
    "#     B_cards = deck[len(deck) - C - D - B:len(deck) - C - D]\n",
    "#     A_cards = deck[:A]\n",
    "#     boxed_deck = np.concatenate((D_cards, C_cards, B_cards, A_cards))\n",
    "#     return(boxed_deck)"
   ]
  },
  {
   "cell_type": "code",
   "execution_count": null,
   "metadata": {},
   "outputs": [],
   "source": [
    "import scipy.stats as stat\n",
    "import pandas as pd\n",
    "import numpy as np\n",
    "import random\n",
    "import matplotlib.pyplot as plt"
   ]
  },
  {
   "attachments": {},
   "cell_type": "markdown",
   "metadata": {},
   "source": [
    "# Shuffle tecniques"
   ]
  },
  {
   "cell_type": "code",
   "execution_count": null,
   "metadata": {},
   "outputs": [],
   "source": [
    "def GSR_riffle(deck, p):\n",
    "    riffled_deck = []\n",
    "    cut_point = np.random.binomial(52, p, 1)[0]\n",
    "    right = deck[:cut_point]\n",
    "    left = deck[cut_point:len(deck)]\n",
    "    for i in range(len(deck)):\n",
    "        A = len(left)\n",
    "        B = len(right)\n",
    "        prob_left = A / (A + B)\n",
    "        # prob_right = 1 - prob_left\n",
    "        prob_right = random.random()\n",
    "        if prob_left > prob_right:\n",
    "            riffled_deck.append(left[-1])\n",
    "            left = left[:len(left) - 1]\n",
    "        else:\n",
    "            riffled_deck.append(right[-1])\n",
    "            right = right[:len(right) - 1]\n",
    "    return riffled_deck[::-1]"
   ]
  },
  {
   "cell_type": "code",
   "execution_count": null,
   "metadata": {},
   "outputs": [],
   "source": [
    "def Diaconis_riffle(deck, p):\n",
    "    riffled_deck, riffled_sides = [], []\n",
    "    cut_point = random.choices([23, 24, 25, 26, 27, 28, 29], k=1, weights=[0.02, 0.04, 0.21, 0.31, 0.32, 0.09, 0.01])[0]\n",
    "    right = deck[:cut_point]\n",
    "    left = deck[cut_point:len(deck)]\n",
    "    right_flag = 0\n",
    "    side = random.choices([1, 2], k=1, weights=[0.44, 0.56])[0]\n",
    "    if side == 2:\n",
    "        right_flag = 1\n",
    "    first_pack = random.choices([1, 2, 3, 4, 5], k=1, weights=[0.36, 0.36, 0.17, 0.1, 0.01])[0]\n",
    "\n",
    "    for i in range(first_pack):\n",
    "        if right_flag:\n",
    "            riffled_deck.append(right[-1])\n",
    "            # riffled_sides.append('r')\n",
    "            right = right[:len(right) - 1]\n",
    "        else:\n",
    "            riffled_deck.append(left[-1])\n",
    "            # riffled_sides.append('l')\n",
    "            left = left[:len(left) - 1]\n",
    "\n",
    "    i = 0\n",
    "    w = [0.8, 0.181, 0.014, 0.003, 0.002]\n",
    "    while i != len(deck) - first_pack:\n",
    "        num_cards = random.choices([1, 2, 3, 4, 5], k=1, weights = w)[0]\n",
    "        if right_flag and len(left) >= num_cards or len(right) == 0 and len(left) >= num_cards:\n",
    "            for j in range(num_cards):\n",
    "                riffled_deck.append(left[-1])\n",
    "                left = left[:len(left) - 1]\n",
    "                i += 1\n",
    "                right_flag = 0\n",
    "        elif right_flag == 0 and len(right) >= num_cards or len(left) == 0 and len(right) >= num_cards:\n",
    "            for j in range(num_cards):\n",
    "                riffled_deck.append(right[-1])\n",
    "                right = right[:len(right) - 1]\n",
    "                i += 1 \n",
    "                right_flag = 1\n",
    "    return riffled_deck[::-1]"
   ]
  },
  {
   "cell_type": "code",
   "execution_count": null,
   "metadata": {},
   "outputs": [],
   "source": [
    "def strip(deck, p):\n",
    "    cut_point = np.random.binomial(52, p, 1)[0]\n",
    "    bottom = deck[:cut_point]\n",
    "    stripped_cards = deck[cut_point:len(deck)]\n",
    "    A = np.random.binomial(len(stripped_cards), 1 / 3, 1)[0]\n",
    "    B = np.random.binomial(len(stripped_cards) - A, 1 / 2, 1)[0]\n",
    "\n",
    "    A_cards = stripped_cards[:A]\n",
    "    B_cards = stripped_cards[A:A + B]\n",
    "    C_cards = stripped_cards[A + B:len(stripped_cards)]\n",
    "    stripped_deck = np.concatenate((C_cards, B_cards, A_cards, bottom))\n",
    "    return stripped_deck"
   ]
  },
  {
   "cell_type": "code",
   "execution_count": null,
   "metadata": {},
   "outputs": [],
   "source": [
    "def deck_cut(deck, p):\n",
    "    cut_point = np.random.binomial(len(deck), p, 1)[0]\n",
    "    A = deck[:cut_point]\n",
    "    B = deck[cut_point:len(deck)]\n",
    "    cutted_deck = np.concatenate((B, A))\n",
    "    return list(cutted_deck)"
   ]
  },
  {
   "cell_type": "code",
   "execution_count": null,
   "metadata": {},
   "outputs": [],
   "source": [
    "def shuffle_strip(deck, p):\n",
    "    riffle1 = riffle(deck, p)\n",
    "    riffle2 = riffle(riffle1, p)\n",
    "    strip1 = strip(riffle2, 1)\n",
    "    riffle3 = riffle(strip1, p)\n",
    "    riffle4 = riffle(riffle3, p)\n",
    "    cut = deck_cut(riffle4, p)\n",
    "    return cut"
   ]
  },
  {
   "cell_type": "code",
   "execution_count": null,
   "metadata": {},
   "outputs": [],
   "source": [
    "def shuffle_7_times(deck, p):\n",
    "    riffle1 = riffle(deck, p)\n",
    "    riffle2 = riffle(riffle1, p)\n",
    "    riffle3 = riffle(riffle2, p)\n",
    "    riffle4 = riffle(riffle3, p)\n",
    "    riffle5 = riffle(riffle4, p)\n",
    "    riffle6 = riffle(riffle5, p)\n",
    "    riffle7 = riffle(riffle6, p)\n",
    "    cut = deck_cut(riffle7, p)\n",
    "    return riffle7"
   ]
  },
  {
   "cell_type": "code",
   "execution_count": null,
   "metadata": {},
   "outputs": [],
   "source": [
    "def GSR_7_times(deck, p):\n",
    "    riffle1 = GSR_riffle(deck, p)\n",
    "    riffle2 = GSR_riffle(riffle1, p)\n",
    "    riffle3 = GSR_riffle(riffle2, p)\n",
    "    riffle4 = GSR_riffle(riffle3, p)\n",
    "    riffle5 = GSR_riffle(riffle4, p)\n",
    "    riffle6 = GSR_riffle(riffle5, p)\n",
    "    riffle7 = GSR_riffle(riffle6, p)\n",
    "    cut = deck_cut(riffle7, p)\n",
    "    top_card_index = random.choice(np.arange(0, 52))\n",
    "    cut.insert(top_card_index, cut[0])\n",
    "    cut.pop(0)\n",
    "    # cut = deck_cut(cut, p)\n",
    "    return cut"
   ]
  },
  {
   "cell_type": "code",
   "execution_count": null,
   "metadata": {},
   "outputs": [],
   "source": [
    "def dealing(deck, p, real, func):\n",
    "    real_players = real[:12]\n",
    "    real_community = real[12:]\n",
    "    dropped = []\n",
    "    predictions = ['', '', '', '', '', '', '', '', '', '', '', '', '', '', '', '', '']\n",
    "    shuffled_deck = list(func(deck, p))\n",
    "\n",
    "    for i in range(0, 12, 2):\n",
    "        if real_players[i] != '0':\n",
    "            predictions[i] = shuffled_deck[0]\n",
    "            shuffled_deck.pop(0)\n",
    "        else:\n",
    "            predictions[i] = '0'\n",
    "    for i in range(1, 12, 2):\n",
    "        if real_players[i] != '0':\n",
    "            predictions[i] = shuffled_deck[0]\n",
    "            shuffled_deck.pop(0)\n",
    "        else:\n",
    "            predictions[i] = '0'\n",
    "    if real_community[0] != '0':\n",
    "        dropped.append(shuffled_deck[0])\n",
    "        shuffled_deck.pop(0)\n",
    "        predictions[12] = shuffled_deck[0]\n",
    "        predictions[13] = shuffled_deck[1]\n",
    "        predictions[14] = shuffled_deck[2]\n",
    "        shuffled_deck.pop(0)\n",
    "        shuffled_deck.pop(0)\n",
    "        shuffled_deck.pop(0)\n",
    "    else:\n",
    "        predictions[12:] = ['0', '0', '0', '0', '0']\n",
    "    if real_community[3] != '0':\n",
    "        dropped.append(shuffled_deck[0])\n",
    "        shuffled_deck.pop(0)\n",
    "        predictions[15] = shuffled_deck[0]\n",
    "        shuffled_deck.pop(0)\n",
    "    else: \n",
    "        predictions[15:] = ['0', '0']\n",
    "    if real_community[4] != '0':\n",
    "        dropped.append(shuffled_deck[0])\n",
    "        shuffled_deck.pop(0)\n",
    "        predictions[16] = shuffled_deck[0]\n",
    "        shuffled_deck.pop(0)\n",
    "    else:\n",
    "        predictions[16] = '0'\n",
    "\n",
    "    playing_cards = [i for i in predictions if i != '0']\n",
    "    deck = np.concatenate((shuffled_deck, dropped, playing_cards))\n",
    "    return predictions, deck"
   ]
  },
  {
   "cell_type": "code",
   "execution_count": null,
   "metadata": {},
   "outputs": [],
   "source": [
    "def perfect_riffle(deck, p):\n",
    "    riffled_deck = []\n",
    "    cut_point = 26\n",
    "    right = deck[:cut_point]\n",
    "    left = deck[cut_point:len(deck)]\n",
    "    right_flag = 0\n",
    "    for i in range(len(deck)):\n",
    "        if right_flag == 0:\n",
    "            riffled_deck.append(right[-1])\n",
    "            right = right[:len(right) - 1]\n",
    "            right_flag = 1\n",
    "        elif right_flag == 1:\n",
    "            riffled_deck.append(left[-1])\n",
    "            left = left[:len(left) - 1]\n",
    "            right_flag = 0\n",
    "    return riffled_deck[::-1]"
   ]
  },
  {
   "cell_type": "code",
   "execution_count": null,
   "metadata": {},
   "outputs": [],
   "source": [
    "def perfect_strip(deck, p):\n",
    "    cut_point = 26\n",
    "    bottom = deck[:cut_point]\n",
    "    stripped_cards = deck[cut_point:len(deck)]\n",
    "    A = 8\n",
    "    B = 9\n",
    "\n",
    "    A_cards = stripped_cards[:A]\n",
    "    B_cards = stripped_cards[A:A + B]\n",
    "    C_cards = stripped_cards[A + B:len(stripped_cards)]\n",
    "    stripped_deck = np.concatenate((C_cards, B_cards, A_cards, bottom))\n",
    "    return stripped_deck"
   ]
  },
  {
   "cell_type": "code",
   "execution_count": null,
   "metadata": {},
   "outputs": [],
   "source": [
    "def perfect_cut(deck, p):\n",
    "    cut_point = 26\n",
    "    A = deck[:cut_point]\n",
    "    B = deck[cut_point:len(deck)]\n",
    "    cutted_deck = np.concatenate((B, A))\n",
    "    return list(cutted_deck)"
   ]
  },
  {
   "cell_type": "code",
   "execution_count": null,
   "metadata": {},
   "outputs": [],
   "source": [
    "def perfect_shuffle(deck, p):\n",
    "    riffle1 = perfect_riffle(deck, p)\n",
    "    riffle2 = perfect_riffle(riffle1, p)\n",
    "    strip1 = perfect_strip(riffle2, 1)\n",
    "    riffle3 = perfect_riffle(strip1, p)\n",
    "    riffle4 = perfect_riffle(riffle3, p)\n",
    "    cut = perfect_cut(riffle4, p)\n",
    "    return cut"
   ]
  },
  {
   "cell_type": "code",
   "execution_count": null,
   "metadata": {},
   "outputs": [],
   "source": [
    "deck = list(['AS', '2S', '3S', '4S', '5S', '6S', '7S', '8S', '9S', 'TS', 'JS', 'QS', 'KS',\n",
    "        'AD', '2D', '3D', '4D', '5D', '6D', '7D', '8D', '9D', 'TD', 'JD', 'QD', 'KD',\n",
    "        'KC', 'QC', 'JC', 'TC', '9C', '8C', '7C', '6C', '5C', '4C', '3C', '2C', 'AC',\n",
    "        'KH', 'QH', 'JH', 'TH', '9H', '8H', '7H', '6H', '5H', '4H', '3H', '2H', 'AH'\n",
    "        ])\n",
    "deck_random = deck.copy()\n",
    "random.shuffle(deck_random)"
   ]
  },
  {
   "cell_type": "code",
   "execution_count": null,
   "metadata": {},
   "outputs": [],
   "source": [
    "real = df1.loc[0]\n",
    "next_deck = check_match(deck_random, 0.5, real, shuffle_7_times, 8)"
   ]
  },
  {
   "cell_type": "code",
   "execution_count": null,
   "metadata": {},
   "outputs": [],
   "source": [
    "def avg_match(next_deck, shuffle, df):\n",
    "    df_generated = pd.DataFrame(columns = df.columns)\n",
    "    matches_count = []\n",
    "    for i in range(1, len(df)):\n",
    "        # real = extract_values(np.array(df.loc[i]))\n",
    "        real = np.array(df.loc[i])\n",
    "        next_dealing, next_deck = dealing(next_deck, 0.5, real, shuffle)\n",
    "        df_generated.loc[i] = next_dealing \n",
    "        matches_count.append((count_match(next_dealing, real)))\n",
    "    return matches_count, df_generated"
   ]
  },
  {
   "cell_type": "code",
   "execution_count": null,
   "metadata": {},
   "outputs": [],
   "source": [
    "pd.set_option('display.max_rows', 2100)\n",
    "pd.set_option('display.max_columns', 50)"
   ]
  },
  {
   "cell_type": "code",
   "execution_count": null,
   "metadata": {},
   "outputs": [],
   "source": [
    "def extract_values(arr):\n",
    "    for i in range(len(arr)):\n",
    "        if arr[i] != '0':\n",
    "            arr[i] = arr[i][0]\n",
    "    return arr"
   ]
  },
  {
   "cell_type": "code",
   "execution_count": null,
   "metadata": {},
   "outputs": [],
   "source": [
    "def count_match(arr1, arr2):\n",
    "    num_matches = 0\n",
    "    for i in range(len(arr1)):\n",
    "        if arr2[i] in arr1 and arr2[i] != '0':\n",
    "            num_matches += 1\n",
    "            arr1.remove(arr2[i])\n",
    "    return num_matches"
   ]
  },
  {
   "cell_type": "code",
   "execution_count": null,
   "metadata": {},
   "outputs": [],
   "source": [
    "def check_match(deck, p, real, func, match_num):\n",
    "    # real = extract_values(real)\n",
    "    count_iteration = 0\n",
    "    count = 0\n",
    "    while count != match_num:\n",
    "        predicted, deck = dealing(deck, p, real, func)\n",
    "        count = count_match(predicted, real)\n",
    "        count_iteration += 1\n",
    "    return deck"
   ]
  },
  {
   "cell_type": "code",
   "execution_count": null,
   "metadata": {},
   "outputs": [],
   "source": [
    "def avg_match(next_deck, shuffle, df):\n",
    "    df_generated = pd.DataFrame(columns = df.columns)\n",
    "    matches_count = []\n",
    "    for i in range(len(df)):\n",
    "        # real = extract_values(np.array(df.loc[i]))\n",
    "        real = np.array(df.loc[i])\n",
    "        next_dealing, next_deck = dealing(next_deck, 0.5, real, shuffle)\n",
    "        df_generated.loc[i] = next_dealing \n",
    "        matches_count.append((count_match(next_dealing, real)))\n",
    "    return matches_count, df_generated"
   ]
  },
  {
   "cell_type": "code",
   "execution_count": null,
   "metadata": {},
   "outputs": [],
   "source": [
    "def distribution_distance(df):\n",
    "    dists =[]\n",
    "    uniform_prob = np.full(52, 1/52)\n",
    "    for i in range(df.shape[1]):\n",
    "        dists.append(stat.wasserstein_distance(list(df.iloc[:, i]), uniform_prob))\n",
    "    return dists"
   ]
  },
  {
   "attachments": {},
   "cell_type": "markdown",
   "metadata": {},
   "source": [
    "# Data"
   ]
  },
  {
   "cell_type": "code",
   "execution_count": null,
   "metadata": {},
   "outputs": [],
   "source": [
    "data = pd.read_csv(\"\", sep = \";\")\n",
    "del data['Unnamed: 0']\n",
    "del data['Unnamed: 1']\n",
    "data = data.replace('  ', '0')\n",
    "data = data.fillna(0)\n",
    "df1 = data.drop(data.columns[[0, 3, 6, 9, 12, 15, 23]], axis = 1)\n",
    "df1 = df1.astype('string')\n",
    "pd.set_option('display.max_columns', None)"
   ]
  },
  {
   "cell_type": "code",
   "execution_count": null,
   "metadata": {},
   "outputs": [],
   "source": [
    "games_indexes = []\n",
    "for i in range(1, len(data)):\n",
    "    if data.iloc[i, 0] != data.iloc[i - 1, 0]:\n",
    "        games_indexes.append(i)"
   ]
  },
  {
   "cell_type": "code",
   "execution_count": null,
   "metadata": {},
   "outputs": [],
   "source": [
    "df1 = data.drop(data.columns[[0, 3, 6, 9, 12, 15, 23]], axis = 1)\n",
    "df1 = df1.astype('string')\n",
    "# df1 = df1[93:158].reset_index(drop = True)"
   ]
  },
  {
   "cell_type": "code",
   "execution_count": null,
   "metadata": {},
   "outputs": [],
   "source": [
    "df1[:48].apply(lambda x: x.value_counts()).T.sum()"
   ]
  },
  {
   "cell_type": "code",
   "execution_count": null,
   "metadata": {},
   "outputs": [],
   "source": [
    "matches_sample = pd.DataFrame(columns = deck)\n",
    "for i in range(len(games_indexes) - 1):\n",
    "    df = df1[games_indexes[i] : games_indexes[i + 1]].reset_index(drop = True)\n",
    "    matches_sample.loc[i] = df.apply(lambda x: x.value_counts()).T.sum()\n"
   ]
  },
  {
   "cell_type": "code",
   "execution_count": null,
   "metadata": {},
   "outputs": [],
   "source": [
    "deck = list(['AS', '2S', '3S', '4S', '5S', '6S', '7S', '8S', '9S', 'TS', 'JS', 'QS', 'KS',\n",
    "        'AD', '2D', '3D', '4D', '5D', '6D', '7D', '8D', '9D', 'TD', 'JD', 'QD', 'KD',\n",
    "        'KC', 'QC', 'JC', 'TC', '9C', '8C', '7C', '6C', '5C', '4C', '3C', '2C', 'AC',\n",
    "        'KH', 'QH', 'JH', 'TH', '9H', '8H', '7H', '6H', '5H', '4H', '3H', '2H', 'AH'\n",
    "        ])\n",
    "# deck = list(['A', '2', '3', '4', '5', '6', '7', '8', '9', 'T', 'J', 'Q', 'K',\n",
    "#             'A', '2', '3', '4', '5', '6', '7', '8', '9', 'T', 'J', 'Q', 'K',\n",
    "#             'K', 'Q', 'J', 'T', '9', '8', '7', '6', '5', '4', '3', '2', 'A',\n",
    "#             'K', 'Q', 'J', 'T', '9', '8', '7', '6', '5', '4', '3', '2', 'A'\n",
    "#            ])"
   ]
  },
  {
   "cell_type": "code",
   "execution_count": null,
   "metadata": {},
   "outputs": [],
   "source": [
    "deck_random = deck.copy()\n",
    "random.shuffle(deck_random)"
   ]
  },
  {
   "cell_type": "code",
   "execution_count": null,
   "metadata": {},
   "outputs": [],
   "source": [
    "real = list(sample.loc[0])\n",
    "next_deck = check_match(deck_random, 0.5, real, shuffle_strip, 12)\n",
    "next_deck2 = next_deck.copy()"
   ]
  },
  {
   "cell_type": "code",
   "execution_count": null,
   "metadata": {},
   "outputs": [],
   "source": [
    "matches, df_gen_strip = avg_match(next_deck, shuffle_strip, df1[:games_indexes[0]])"
   ]
  },
  {
   "cell_type": "code",
   "execution_count": null,
   "metadata": {},
   "outputs": [],
   "source": [
    "matches, df_gen_7 = avg_match(next_deck, shuffle_7_times, df1[:games_indexes[0]])"
   ]
  },
  {
   "cell_type": "code",
   "execution_count": null,
   "metadata": {},
   "outputs": [],
   "source": [
    "df_counts = pd.DataFrame(columns=deck)\n",
    "for i in range(0, 10, 5):\n",
    "    print((df1[i: i + 5].apply(lambda x: x.value_counts())).fillna(0))"
   ]
  },
  {
   "attachments": {},
   "cell_type": "markdown",
   "metadata": {},
   "source": [
    "# Values distribution in the deck"
   ]
  },
  {
   "cell_type": "code",
   "execution_count": null,
   "metadata": {},
   "outputs": [],
   "source": [
    "# deck_values_colors = ['slateblue', 'darkslateblue', 'mediumslateblue', 'rebeccapurple', 'blueviolet', 'aquamarine', 'turquoise', 'lightseagreen', 'mediumturquoise', 'gold', 'lemonchiffon', 'khaki', 'palegoldenrod',\n",
    "#        'slateblue', 'darkslateblue', 'mediumslateblue', 'rebeccapurple', 'blueviolet', 'aquamarine', 'turquoise', 'lightseagreen', 'mediumturquoise', 'gold', 'lemonchiffon', 'khaki', 'palegoldenrod',\n",
    "#        'darkslateblue', 'mediumslateblue', 'rebeccapurple', 'blueviolet', 'aquamarine', 'turquoise', 'lightseagreen', 'mediumturquoise', 'gold', 'lemonchiffon', 'khaki', 'palegoldenrod', 'slateblue',\n",
    "#        'darkslateblue', 'mediumslateblue', 'rebeccapurple', 'blueviolet', 'aquamarine', 'turquoise', 'lightseagreen', 'mediumturquoise', 'gold', 'lemonchiffon', 'khaki', 'palegoldenrod', 'slateblue']"
   ]
  },
  {
   "cell_type": "code",
   "execution_count": null,
   "metadata": {},
   "outputs": [],
   "source": [
    "# deck_values_colors = ['rebeccapurple', 'gold', 'gold', 'gold', 'gold', 'turquoise', 'turquoise', 'turquoise', 'turquoise', 'rebeccapurple', 'rebeccapurple', 'rebeccapurple',\n",
    "#        'rebeccapurple', 'gold', 'gold', 'gold', 'gold', 'turquoise', 'turquoise', 'turquoise', 'turquoise', 'rebeccapurple', 'rebeccapurple', 'rebeccapurple', 'rebeccapurple',\n",
    "#        'rebeccapurple', 'rebeccapurple', 'rebeccapurple', 'rebeccapurple', 'turquoise', 'turquoise', 'turquoise', 'turquoise', 'gold', 'gold', 'gold', 'gold', 'rebeccapurple',\n",
    "#        'rebeccapurple', 'rebeccapurple', 'rebeccapurple', 'rebeccapurple', 'turquoise', 'turquoise', 'turquoise', 'turquoise', 'gold', 'gold', 'gold', 'gold', 'rebeccapurple']"
   ]
  },
  {
   "cell_type": "code",
   "execution_count": null,
   "metadata": {},
   "outputs": [],
   "source": [
    "#playing cards\n",
    "deck_values_colors = [ 'turquoise',  'turquoise',  'turquoise',  'turquoise', 'turquoise', 'turquoise', 'turquoise', 'turquoise', 'turquoise', 'turquoise', 'turquoise', 'turquoise', 'turquoise',\n",
    "                              'turquoise',  'turquoise',  'turquoise',  'turquoise', 'turquoise', 'turquoise', 'turquoise', 'turquoise', 'turquoise', 'turquoise', 'turquoise', 'turquoise', 'turquoise',\n",
    "                              'turquoise',  'turquoise',  'turquoise',  'turquoise', 'turquoise', 'turquoise', 'rebeccapurple', 'rebeccapurple', 'rebeccapurple', 'rebeccapurple', 'rebeccapurple', 'rebeccapurple', 'rebeccapurple', 'rebeccapurple',\n",
    "                              'rebeccapurple', 'rebeccapurple', 'rebeccapurple', 'rebeccapurple', 'rebeccapurple', 'rebeccapurple', 'rebeccapurple', 'rebeccapurple','rebeccapurple', 'rebeccapurple', 'rebeccapurple', 'rebeccapurple']"
   ]
  },
  {
   "cell_type": "code",
   "execution_count": null,
   "metadata": {},
   "outputs": [],
   "source": [
    "shuffled_colors = []\n",
    "for i in range(10):\n",
    "    colors = shuffle_strip(deck_values_colors, 0.5)\n",
    "    shuffled_colors.append(colors)\n",
    "fig = plt.figure(figsize=(30,6))\n",
    "x = np.arange(52)\n",
    "y = 52\n",
    "# axes[1, 1].barh(x, y, color = shuffled_colors)\n",
    "for i in range(1, len(shuffled_colors)):\n",
    "    ax = fig.add_subplot(2, 5, i)\n",
    "    ax.barh(x, y, color = shuffled_colors[i])"
   ]
  },
  {
   "cell_type": "code",
   "execution_count": null,
   "metadata": {},
   "outputs": [],
   "source": [
    "shuffled_7_colors = []\n",
    "for i in range(10):\n",
    "    colors = shuffle_7_times(deck_values_colors, 0.5)\n",
    "    shuffled_7_colors.append(colors)\n",
    "fig = plt.figure(figsize=(30,6))\n",
    "x = np.arange(52)\n",
    "y = 52\n",
    "for i in range(1, len(shuffled_7_colors)):\n",
    "    ax = fig.add_subplot(2, 5, i)\n",
    "    ax.barh(x, y, color = shuffled_7_colors[i])"
   ]
  },
  {
   "attachments": {},
   "cell_type": "markdown",
   "metadata": {},
   "source": [
    "# Suits distribution in the deck"
   ]
  },
  {
   "cell_type": "code",
   "execution_count": null,
   "metadata": {},
   "outputs": [],
   "source": [
    "deck_suits_colors = ['hotpink', 'hotpink', 'hotpink', 'hotpink', 'hotpink', 'hotpink', 'hotpink', 'hotpink', 'hotpink', 'hotpink','hotpink', 'hotpink', 'hotpink', \n",
    "        'royalblue', 'royalblue', 'royalblue', 'royalblue', 'royalblue', 'royalblue', 'royalblue', 'royalblue', 'royalblue', 'royalblue', 'royalblue', 'royalblue', 'royalblue',\n",
    "        'mediumseagreen',  'mediumseagreen', 'mediumseagreen',  'mediumseagreen', 'mediumseagreen',  'mediumseagreen', 'mediumseagreen',  'mediumseagreen', 'mediumseagreen',  'mediumseagreen','mediumseagreen',  'mediumseagreen', 'mediumseagreen',\n",
    "        'darkorange', 'darkorange', 'darkorange', 'darkorange', 'darkorange', 'darkorange', 'darkorange', 'darkorange', 'darkorange', 'darkorange', 'darkorange', 'darkorange', 'darkorange']"
   ]
  },
  {
   "cell_type": "code",
   "execution_count": null,
   "metadata": {},
   "outputs": [],
   "source": [
    "shuffled_colors = []\n",
    "for i in range(50):\n",
    "    colors = shuffle_strip(deck_suits_colors, 0.5)\n",
    "    shuffled_colors.append(colors)\n"
   ]
  },
  {
   "cell_type": "code",
   "execution_count": null,
   "metadata": {},
   "outputs": [],
   "source": [
    "import matplotlib.pyplot as plt\n",
    "fig = plt.figure(figsize=(30,30))\n",
    "x = np.arange(52)\n",
    "y = 52\n",
    "# axes[1, 1].barh(x, y, color = shuffled_colors)\n",
    "for i in range(1, len(shuffled_colors)):\n",
    "    ax = fig.add_subplot(10, 5, i)\n",
    "    ax.barh(x, y, color = shuffled_colors[i])"
   ]
  },
  {
   "cell_type": "code",
   "execution_count": null,
   "metadata": {},
   "outputs": [],
   "source": [
    "shuffled_7_colors = []\n",
    "for i in range(50):\n",
    "    colors = shuffle_7_times(deck_suits_colors, 0.5)\n",
    "    shuffled_7_colors.append(colors)"
   ]
  },
  {
   "cell_type": "code",
   "execution_count": null,
   "metadata": {},
   "outputs": [],
   "source": [
    "fig = plt.figure(figsize=(30,30))\n",
    "x = np.arange(52)\n",
    "y = 52\n",
    "for i in range(1, len(shuffled_7_colors)):\n",
    "    ax = fig.add_subplot(10, 5, i)\n",
    "    ax.barh(x, y, color = shuffled_7_colors[i])"
   ]
  }
 ],
 "metadata": {
  "kernelspec": {
   "display_name": "Python 3",
   "language": "python",
   "name": "python3"
  },
  "language_info": {
   "codemirror_mode": {
    "name": "ipython",
    "version": 3
   },
   "file_extension": ".py",
   "mimetype": "text/x-python",
   "name": "python",
   "nbconvert_exporter": "python",
   "pygments_lexer": "ipython3",
   "version": "3.9.5"
  },
  "orig_nbformat": 4
 },
 "nbformat": 4,
 "nbformat_minor": 2
}
