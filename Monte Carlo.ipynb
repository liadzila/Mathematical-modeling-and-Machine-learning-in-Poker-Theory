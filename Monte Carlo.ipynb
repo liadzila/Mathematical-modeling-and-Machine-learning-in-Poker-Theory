{
 "cells": [
  {
   "cell_type": "code",
   "execution_count": null,
   "metadata": {},
   "outputs": [],
   "source": [
    "import numpy as np\n",
    "import pandas as pd\n",
    "import random\n",
    "import scipy.stats as stats\n",
    "from statsmodels.sandbox.stats.multicomp import multipletests\n",
    "import matplotlib.pyplot as plt\n",
    "import matplotlib.gridspec as grid_spec\n",
    "import seaborn as sns\n",
    "from tqdm import tqdm"
   ]
  },
  {
   "cell_type": "code",
   "execution_count": null,
   "metadata": {},
   "outputs": [],
   "source": [
    "#smoosh\n",
    "# # Step 1\n",
    "# ShuffledDeck = []\n",
    "\n",
    "# # Step 2\n",
    "# table_width = 15.75\n",
    "# table_height = 24.5\n",
    "# card_width = table_width / 7\n",
    "# card_height = table_height / 7\n",
    "# center_x = 7.35\n",
    "# center_y = 10.5\n",
    "# deck = list(np.arange(1, 53))\n",
    "# # Step 3\n",
    "# StartingPosition = [[[] for _ in range(7)] for _ in range(7)]\n",
    "# StartingPosition[3][3] = deck\n",
    "# # Step 4\n",
    "# hand_x = center_x\n",
    "# hand_y = center_y\n",
    "# hand_width = card_width\n",
    "# hand_height = card_height\n",
    "\n",
    "# # Step 5\n",
    "# S = 4\n",
    "# for i in range(S):\n",
    "#     # Step 5i\n",
    "#     directions = []\n",
    "#     if i < 3:\n",
    "#         directions.append((3+i, 3))\n",
    "#         directions.append((3-i, 3))\n",
    "#     if i < 4:\n",
    "#         directions.append((3, 3+i))\n",
    "#         directions.append((3, 3-i))\n",
    "#     direction = random.choice(directions)\n",
    "#     row, col = direction\n",
    "#     print(i)\n",
    "#     # Step 5ii\n",
    "#     if row >= 0 and row < 7 and col >= 0 and col < 7:\n",
    "#         # Step 5iii\n",
    "#         for j, card in enumerate(StartingPosition[3][3]):\n",
    "#             # Step 5iii.a\n",
    "#             if random.random() < 0.5:\n",
    "#                 StartingPosition[row][col].append(card)\n",
    "#         # Step 5iii.b\n",
    "#         hand_x = center_x + (col - 3) * card_width\n",
    "#         hand_y = center_y + (row - 3) * card_height\n",
    "#     else:\n",
    "#         # Step 5iv\n",
    "#         break\n",
    "\n",
    "# # Step 6\n",
    "# for col in range(7):\n",
    "#     for row in range(7):\n",
    "#         for card in StartingPosition[row][col]:\n",
    "#             ShuffledDeck.append(card)\n",
    "#         StartingPosition[row][col] = []\n",
    "\n",
    "# # Step 7\n",
    "# print(ShuffledDeck[:-52])\n"
   ]
  },
  {
   "cell_type": "code",
   "execution_count": null,
   "metadata": {},
   "outputs": [],
   "source": [
    "# import random\n",
    "# def overhand(va, passes):\n",
    "#     mainHand = va\n",
    "#     passes = 1\n",
    "#     for n in range(passes):\n",
    "#         otherHand = []\n",
    "#         while (len(mainHand) > 0):\n",
    "#             #cut at up to 20% of the way through the deck\n",
    "#             cutSize = random.randint(0, len(va) // 4) + 1\n",
    "#             print(cutSize)\n",
    "#             temp = []\n",
    "\n",
    "#             #grab the next cut up to the end of the cards left in the main hand\n",
    "#             i=0\n",
    "#             while (i<cutSize and len(mainHand) > 0):\n",
    "#                 temp.append(mainHand.pop(0))\n",
    "#                 i = i + 1\n",
    "\n",
    "#             #add them to the cards in the other hand, sometimes to the front sometimes to the back\n",
    "#             if (random.uniform(0, 1) >= 0.1):\n",
    "#                 #front most of the time\n",
    "#                 otherHand = temp + otherHand\n",
    "#             else:\n",
    "#                 otherHand = otherHand + temp\n",
    "#         #move the cards back to the main hand\n",
    "#         mainHand = otherHand\n",
    "#     return mainHand"
   ]
  },
  {
   "cell_type": "code",
   "execution_count": null,
   "metadata": {},
   "outputs": [],
   "source": [
    "# def GSR_theor(deck, p):\n",
    "#     riffled_deck = []\n",
    "#     cut_point = np.random.binomial(52, p, 1)[0]\n",
    "#     right = deck[:cut_point]\n",
    "#     left = deck[cut_point:len(deck)]\n",
    "#     for i in range(len(deck)):\n",
    "#         A = len(left)\n",
    "#         B = len(right)\n",
    "#         prob_left = A / (A + B)\n",
    "#         prob_right = 1 - prob_left\n",
    "#         if prob_left > prob_right:\n",
    "#             riffled_deck.append(left[-1])\n",
    "#             left = left[:len(left) - 1]\n",
    "#         else:\n",
    "#             riffled_deck.append(right[-1])\n",
    "#             right = right[:len(right) - 1]\n",
    "#     return riffled_deck[::-1]"
   ]
  },
  {
   "attachments": {},
   "cell_type": "markdown",
   "metadata": {},
   "source": [
    "# Shuffle tecniques"
   ]
  },
  {
   "cell_type": "code",
   "execution_count": null,
   "metadata": {},
   "outputs": [],
   "source": [
    "def GSR_riffle(deck, p):\n",
    "    riffled_deck = []\n",
    "    cut_point = np.random.binomial(52, p, 1)[0]\n",
    "    right = deck[:cut_point]\n",
    "    left = deck[cut_point:len(deck)]\n",
    "    for i in range(len(deck)):\n",
    "        A = len(left)\n",
    "        B = len(right)\n",
    "        prob_left = A / (A + B)\n",
    "        # prob_right = 1 - prob_left\n",
    "        prob_right = random.random()\n",
    "        if prob_left > prob_right:\n",
    "            riffled_deck.append(left[-1])\n",
    "            left = left[:len(left) - 1]\n",
    "        else:\n",
    "            riffled_deck.append(right[-1])\n",
    "            right = right[:len(right) - 1]\n",
    "    return riffled_deck[::-1]"
   ]
  },
  {
   "cell_type": "code",
   "execution_count": null,
   "metadata": {},
   "outputs": [],
   "source": [
    "def Diaconis_riffle(deck, p):\n",
    "    riffled_deck, riffled_sides = [], []\n",
    "    cut_point = random.choices([23, 24, 25, 26, 27, 28, 29], k=1, weights=[0.02, 0.04, 0.21, 0.31, 0.32, 0.09, 0.01])[0]\n",
    "    right = deck[:cut_point]\n",
    "    left = deck[cut_point:len(deck)]\n",
    "    right_flag = 0\n",
    "    side = random.choices([1, 2], k=1, weights=[0.44, 0.56])[0]\n",
    "    if side == 2:\n",
    "        right_flag = 1\n",
    "    first_pack = random.choices([1, 2, 3, 4, 5], k=1, weights=[0.36, 0.36, 0.17, 0.1, 0.01])[0]\n",
    "\n",
    "    for i in range(first_pack):\n",
    "        if right_flag:\n",
    "            riffled_deck.append(right[-1])\n",
    "            # riffled_sides.append('r')\n",
    "            right = right[:len(right) - 1]\n",
    "        else:\n",
    "            riffled_deck.append(left[-1])\n",
    "            # riffled_sides.append('l')\n",
    "            left = left[:len(left) - 1]\n",
    "\n",
    "    i = 0\n",
    "    w = [0.8, 0.181, 0.014, 0.003, 0.002]\n",
    "    while i != len(deck) - first_pack:\n",
    "        num_cards = random.choices([1, 2, 3, 4, 5], k=1, weights = w)[0]\n",
    "        if right_flag and len(left) >= num_cards or len(right) == 0 and len(left) >= num_cards:\n",
    "            for j in range(num_cards):\n",
    "                riffled_deck.append(left[-1])\n",
    "                left = left[:len(left) - 1]\n",
    "                i += 1\n",
    "                right_flag = 0\n",
    "        elif right_flag == 0 and len(right) >= num_cards or len(left) == 0 and len(right) >= num_cards:\n",
    "            for j in range(num_cards):\n",
    "                riffled_deck.append(right[-1])\n",
    "                right = right[:len(right) - 1]\n",
    "                i += 1 \n",
    "                right_flag = 1\n",
    "    return riffled_deck[::-1]"
   ]
  },
  {
   "cell_type": "code",
   "execution_count": null,
   "metadata": {},
   "outputs": [],
   "source": [
    "def mc(num_sim):\n",
    "    matrix = []\n",
    "    first_left = []\n",
    "    first_pack = []\n",
    "    for i in tqdm(range(num_sim)):\n",
    "        first_card = []\n",
    "        for i in range(100):\n",
    "            arr = []\n",
    "            deck = np.arange(1, 53)\n",
    "            rif, riffled_deck = Diaconis_riffle(deck, 0.5)\n",
    "            first_card.append(riffled_deck[0])\n",
    "            count = 0\n",
    "            for i in range(len(riffled_deck) - 1):\n",
    "                if riffled_deck[i] == riffled_deck[i + 1]:\n",
    "                    count += 1\n",
    "                else:\n",
    "                    arr.append(count)\n",
    "                    count = 0\n",
    "            first_pack.append(count)\n",
    "        matrix.append(arr.count(1))\n",
    "        first_left.append(first_card.count('l'))\n",
    "    return np.mean(first_left), matrix, first_pack"
   ]
  },
  {
   "cell_type": "code",
   "execution_count": null,
   "metadata": {},
   "outputs": [],
   "source": [
    "def strip(deck, p):\n",
    "    cut_point = np.random.binomial(52, p, 1)[0]\n",
    "    bottom = deck[:cut_point]\n",
    "    stripped_cards = deck[cut_point:len(deck)]\n",
    "    A = np.random.binomial(len(stripped_cards), 1 / 3, 1)[0]\n",
    "    B = np.random.binomial(len(stripped_cards) - A, 1 / 2, 1)[0]\n",
    "\n",
    "    A_cards = stripped_cards[:A]\n",
    "    B_cards = stripped_cards[A:A + B]\n",
    "    C_cards = stripped_cards[A + B:len(stripped_cards)]\n",
    "    stripped_deck = np.concatenate((C_cards, B_cards, A_cards, bottom))\n",
    "    return stripped_deck"
   ]
  },
  {
   "cell_type": "code",
   "execution_count": null,
   "metadata": {},
   "outputs": [],
   "source": [
    "def cut_arr(arr, p):\n",
    "    e = []\n",
    "    cut_sizes = []\n",
    "    for element in arr:\n",
    "        if random.random() < p:\n",
    "            e.append('Y')\n",
    "        else:\n",
    "            e.append('N')\n",
    "    count = 0\n",
    "    for i in range(len(e)):\n",
    "        if e[i] == 'N':\n",
    "            count += 1\n",
    "        else:\n",
    "            count += 1\n",
    "            cut_sizes.append(count)\n",
    "            count = 0\n",
    "    if e[len(e) - 1] == 'N':\n",
    "        cut_sizes.append(count)\n",
    "    return cut_sizes\n"
   ]
  },
  {
   "cell_type": "code",
   "execution_count": null,
   "metadata": {},
   "outputs": [],
   "source": [
    "def overhand(main_hand, p):\n",
    "    # p = 0.25\n",
    "    other_hand = []\n",
    "    cut_sizes = cut_arr(main_hand, 0.25)\n",
    "    j = 0\n",
    "    while (len(main_hand) > 0):\n",
    "        cut = cut_sizes[j]\n",
    "        packet = []\n",
    "        i = 0\n",
    "        while (i < cut and len(main_hand) > 0):\n",
    "            packet.append(main_hand.pop(0))\n",
    "            i += 1\n",
    "        other_hand = packet + other_hand\n",
    "        j += 1\n",
    "    return other_hand"
   ]
  },
  {
   "cell_type": "code",
   "execution_count": null,
   "metadata": {},
   "outputs": [],
   "source": [
    "def deck_cut(deck, p):\n",
    "    cut_point = np.random.binomial(len(deck), p, 1)[0]\n",
    "    A = deck[:cut_point]\n",
    "    B = deck[cut_point:len(deck)]\n",
    "    cutted_deck = B + A\n",
    "    return cutted_deck"
   ]
  },
  {
   "cell_type": "code",
   "execution_count": null,
   "metadata": {},
   "outputs": [],
   "source": [
    "def random_shuffle(deck, p, bonus, rif):\n",
    "    deck_copy = deck.copy()\n",
    "    random.shuffle(deck_copy)\n",
    "    return deck_copy"
   ]
  },
  {
   "attachments": {},
   "cell_type": "markdown",
   "metadata": {},
   "source": [
    "# Shuffle procedures "
   ]
  },
  {
   "cell_type": "code",
   "execution_count": null,
   "metadata": {},
   "outputs": [],
   "source": [
    "def shuffle_RRHRRRRRC(deck, p, hindu, rif):\n",
    "    riffle1 = rif(deck, p)\n",
    "    riffle2 = rif(riffle1, p)\n",
    "    strip = hindu(riffle2, p)\n",
    "    riffle3 = rif(strip, p)\n",
    "    riffle4 = rif(riffle3, p)\n",
    "    riffle5 = rif(riffle4, p)\n",
    "    riffle6 = rif(riffle5, p)\n",
    "    riffle7 = rif(riffle6, p)\n",
    "    cut = deck_cut(riffle7, p)\n",
    "    return cut"
   ]
  },
  {
   "cell_type": "code",
   "execution_count": null,
   "metadata": {},
   "outputs": [],
   "source": [
    "def shuffle_RRHRRRRC(deck, p, hindu, rif):\n",
    "    riffle1 = rif(deck, p)\n",
    "    riffle2 = rif(riffle1, p)\n",
    "    strip = hindu(riffle2, p)\n",
    "    riffle3 = rif(strip, p)\n",
    "    riffle4 = rif(riffle3, p)\n",
    "    riffle5 = rif(riffle4, p)\n",
    "    riffle6 = rif(riffle5, p)\n",
    "    cut = deck_cut(riffle6, p)\n",
    "    return cut"
   ]
  },
  {
   "cell_type": "code",
   "execution_count": null,
   "metadata": {},
   "outputs": [],
   "source": [
    "def shuffle_RRHRRRC(deck, p, hindu, rif):\n",
    "    riffle1 = rif(deck, p)\n",
    "    riffle2 = rif(riffle1, p)\n",
    "    strip = hindu(riffle2, p)\n",
    "    riffle3 = rif(strip, p)\n",
    "    riffle4 = rif(riffle3, p)\n",
    "    riffle5 = rif(riffle4, p)\n",
    "    cut = deck_cut(riffle5, p)\n",
    "    return cut"
   ]
  },
  {
   "cell_type": "code",
   "execution_count": null,
   "metadata": {},
   "outputs": [],
   "source": [
    "def shuffle_RRHRRC(deck, p, hindu, rif):\n",
    "    riffle1 = rif(deck, p)\n",
    "    riffle2 = rif(riffle1, p)\n",
    "    strip = hindu(riffle2, p)\n",
    "    riffle3 = rif(strip, p)\n",
    "    riffle4 = rif(riffle3, p)\n",
    "    cut = deck_cut(riffle4, p)\n",
    "    return cut"
   ]
  },
  {
   "cell_type": "code",
   "execution_count": null,
   "metadata": {},
   "outputs": [],
   "source": [
    "def shuffle_RRHRC(deck, p, hindu, rif):\n",
    "    riffle1 = rif(deck, p)\n",
    "    riffle2 = rif(riffle1, p)\n",
    "    strip = hindu(riffle2, p)\n",
    "    riffle3 = rif(strip, p)\n",
    "    cut = deck_cut(riffle3, p)\n",
    "    return cut"
   ]
  },
  {
   "cell_type": "code",
   "execution_count": null,
   "metadata": {},
   "outputs": [],
   "source": [
    "def riffle_n_times(deck, p, n_rif, rif):\n",
    "    next_deck = deck.copy()\n",
    "    for i in range(n_rif):\n",
    "        next_deck = rif(next_deck, p)\n",
    "    return next_deck"
   ]
  },
  {
   "cell_type": "code",
   "execution_count": null,
   "metadata": {},
   "outputs": [],
   "source": [
    "def plot_density(densities, colors, labels):\n",
    "    gs = grid_spec.GridSpec(len(densities),1)\n",
    "    fig = plt.figure(figsize=(16,10))\n",
    "\n",
    "    i = 0\n",
    "\n",
    "    ax_objs = []\n",
    "    for density in densities:\n",
    "        x_d = np.arange(0, 52)\n",
    "        ax_objs.append(fig.add_subplot(gs[i:i + 1, 0:]))\n",
    "\n",
    "        ax_objs[-1].plot(x_d, density,color=\"#f0f0f0\",lw=1)\n",
    "        ax_objs[-1].fill_between(x_d, density, alpha=1, color=colors[i])\n",
    "\n",
    "        ax_objs[-1].set_xlim(0,52)\n",
    "        ax_objs[-1].set_ylim(0,1.5)\n",
    "\n",
    "        rect = ax_objs[-1].patch\n",
    "        rect.set_alpha(0)\n",
    "        ax_objs[-1].get_yaxis().set_ticks([])\n",
    "\n",
    "        if i == len(densities)-1:\n",
    "            ax_objs[-1].set_xlabel(\"Number of rising sequences\", fontsize=15)\n",
    "        else:\n",
    "            ax_objs[-1].set_xticklabels([])\n",
    "\n",
    "        spines = [\"top\",\"right\",\"left\",\"bottom\"]\n",
    "        for s in spines:\n",
    "            ax_objs[-1].spines[s].set_visible(False)\n",
    "\n",
    "        ax_objs[-1].text(-0.5,-0.02, labels[i],fontsize=12,ha=\"right\")\n",
    "        ax_objs[-1].set_xticks(np.arange(0,52,4))\n",
    "        i += 1\n",
    "\n",
    "    gs.update(hspace = -0.95)\n",
    "\n",
    "    # fig.text(0.29,0.73,title,fontsize=20, fontweight=\"bold\")\n",
    "\n",
    "    plt.tight_layout()\n",
    "    plt.legend()\n",
    "    plt.show()"
   ]
  },
  {
   "cell_type": "code",
   "execution_count": null,
   "metadata": {},
   "outputs": [],
   "source": [
    "# def plot_distr(sigmas, colors, labels):\n",
    "#     plt.figure(figsize=(10, 6))\n",
    "#     for i in range(len(sigmas)):\n",
    "#         x = np.arange(0, 52)\n",
    "#         # plt.plot(x, sigmas[i], color=\"#f0f0f0\",lw=1)\n",
    "#         plt.fill_between(x, sigmas[i], alpha=0.6, color=colors[i], label = labels[i])\n",
    "#     plt.legend()"
   ]
  },
  {
   "cell_type": "code",
   "execution_count": null,
   "metadata": {},
   "outputs": [],
   "source": [
    "def total_var_dist(real, uniform):\n",
    "    sum_diff = []\n",
    "    for i in range(len(real)):\n",
    "        sum_diff.append(abs(real[i] - uniform[i]))\n",
    "    return max(sum_diff)"
   ]
  },
  {
   "cell_type": "code",
   "execution_count": null,
   "metadata": {},
   "outputs": [],
   "source": [
    "def return_cut(rs_arr, sigma_uni):\n",
    "    sigmas = []\n",
    "    vars = []\n",
    "    sigma = return_sigma(rs_arr)\n",
    "    # print((sigma))\n",
    "    # print(sigma_inf)\n",
    "    vars = (cut_off(sigma, sigma_uni))\n",
    "    print(vars)\n",
    "    return vars.count(False)\n"
   ]
  },
  {
   "cell_type": "code",
   "execution_count": null,
   "metadata": {},
   "outputs": [],
   "source": [
    "def cut_off(real, uniform):\n",
    "    cutoff = []\n",
    "    for i in range(len(real)):\n",
    "        cutoff.append(abs(real[i] - uniform[i]) < 1/4)\n",
    "        print(abs(real[i] - uniform[i]), abs(real[i] - uniform[i]) < 1/4)\n",
    "    return cutoff"
   ]
  },
  {
   "cell_type": "code",
   "execution_count": null,
   "metadata": {},
   "outputs": [],
   "source": [
    "ar_GSR = [0.460883, 0.718774, 0.649675, 0.408094, 0.214976]\n",
    "ar_D = [0.405593, 0.457022, 0.203791, 0.036483, 0.010792]\n",
    "x = [3, 4, 5, 6, 7]\n",
    "plt.xticks(x)\n",
    "plt.plot(x, ar_GSR, color = 'blue', marker = '.', label = 'TVD [GSR]')\n",
    "plt.plot(x, ar_D, color = 'green', marker = '.', label = 'TVD [Diaconis]')\n",
    "plt.grid(alpha = 0.5)\n",
    "plt.plot(x, np.full(5, 0.35), color=\"red\", label = 'threshold')\n",
    "plt.legend()"
   ]
  },
  {
   "cell_type": "code",
   "execution_count": null,
   "metadata": {},
   "outputs": [],
   "source": [
    "def plot_distr(sigmas, colors, labels):\n",
    "    plt.figure(figsize=(10, 6))\n",
    "    for i in range(len(sigmas)):\n",
    "        x = np.arange(0, 52)\n",
    "        # plt.plot(x, sigmas[i], color=\"#f0f0f0\",lw=1)\n",
    "        plt.fill_between(x, sigmas[i], alpha=0.6, color=colors[i], label = labels[i])\n",
    "    plt.legend()"
   ]
  },
  {
   "cell_type": "code",
   "execution_count": null,
   "metadata": {},
   "outputs": [],
   "source": [
    "sigma_initial = [0., 1., 0., 0., 0., 0., 0., 0., 0., 0., 0., 0., 0., 0., 0., 0., 0.,\n",
    "       0., 0., 0., 0., 0., 0., 0., 0., 0., 0., 0., 0., 0., 0., 0., 0., 0.,\n",
    "       0., 0., 0., 0., 0., 0., 0., 0., 0., 0., 0., 0., 0., 0., 0., 0., 0.,\n",
    "       0.]\n",
    "# sigmas_GSR.insert(0, sigma_initial)"
   ]
  },
  {
   "attachments": {},
   "cell_type": "markdown",
   "metadata": {},
   "source": [
    "# Monte-Carlo simulations"
   ]
  },
  {
   "cell_type": "code",
   "execution_count": null,
   "metadata": {},
   "outputs": [],
   "source": [
    "def count_rising_sequences(v):\n",
    "    sig = 0\n",
    "    vbar = np.argsort(v)\n",
    "    for i in range(len(v)-1):\n",
    "        if vbar[i+1] < vbar[i]:\n",
    "            sig += 1\n",
    "    return sig + 1"
   ]
  },
  {
   "cell_type": "code",
   "execution_count": null,
   "metadata": {},
   "outputs": [],
   "source": [
    "def return_sigma(rising_seq):\n",
    "    sigma = np.histogram(rising_seq,  bins=range(52 + 1))[0] / len(rising_seq)\n",
    "    return sigma"
   ]
  },
  {
   "cell_type": "code",
   "execution_count": null,
   "metadata": {},
   "outputs": [],
   "source": [
    "def return_sig_var(rs_arr, sigma_uni):\n",
    "    sigmas = []\n",
    "    vars = []\n",
    "    for i in range(len(rs_arr)):\n",
    "        sigma = return_sigma(rs_arr[i])\n",
    "        sigmas.append(sigma)\n",
    "        vars.append(total_var_dist(sigma, sigma_uni))\n",
    "    return sigmas, vars"
   ]
  },
  {
   "cell_type": "code",
   "execution_count": null,
   "metadata": {},
   "outputs": [],
   "source": [
    "def Monte_Carlo(shuf_procedure, prob, bonus, rif, num_sims):\n",
    "    deck = list(np.arange(1, 53))\n",
    "    sims = []\n",
    "    rising_counts = []\n",
    "    for i in tqdm(range(num_sims)):\n",
    "        shuffled_deck = shuf_procedure(deck, prob, bonus, rif)\n",
    "        sims.append(shuffled_deck)\n",
    "        rising_counts.append(count_rising_sequences(shuffled_deck))\n",
    "    df = pd.DataFrame(sims, columns=np.arange(1, 53))\n",
    "    return df, rising_counts\n"
   ]
  },
  {
   "cell_type": "code",
   "execution_count": null,
   "metadata": {},
   "outputs": [],
   "source": [
    "random_shuffle_df, random_shuffle_rs = Monte_Carlo(random_shuffle, 0.5, 1, 1, 1000000)\n",
    "sigma_inf = return_sigma(random_shuffle_rs)"
   ]
  },
  {
   "cell_type": "code",
   "execution_count": null,
   "metadata": {},
   "outputs": [],
   "source": [
    "GSR_1_df, GSR_1_rs = Monte_Carlo(riffle_n_times, 0.5, 1, GSR_riffle, 1000000)\n",
    "GSR_2_df, GSR_2_rs = Monte_Carlo(riffle_n_times, 0.5, 2, GSR_riffle, 1000000)\n",
    "GSR_3_df, GSR_3_rs = Monte_Carlo(riffle_n_times, 0.5, 3, GSR_riffle, 1000000)\n",
    "GSR_4_df, GSR_4_rs = Monte_Carlo(riffle_n_times, 0.5, 4, GSR_riffle, 1000000)\n",
    "GSR_5_df, GSR_5_rs = Monte_Carlo(riffle_n_times, 0.5, 5, GSR_riffle, 1000000)\n",
    "GSR_6_df, GSR_6_rs = Monte_Carlo(riffle_n_times, 0.5, 6, GSR_riffle, 1000000)\n",
    "GSR_7_df, GSR_7_rs = Monte_Carlo(riffle_n_times, 0.5, 7, GSR_riffle, 1000000)\n",
    "GSR_8_df, GSR_8_rs = Monte_Carlo(riffle_n_times, 0.5, 8, GSR_riffle, 1000000)\n",
    "GSR_9_df, GSR_9_rs = Monte_Carlo(riffle_n_times, 0.5, 9, GSR_riffle, 1000000)\n",
    "GSR_10_df, GSR_10_rs = Monte_Carlo(riffle_n_times, 0.5, 10, GSR_riffle, 1000000)"
   ]
  },
  {
   "cell_type": "code",
   "execution_count": null,
   "metadata": {},
   "outputs": [],
   "source": [
    "GSRr_1_df, GSRr_1_rs = Monte_Carlo(riffle_n_times, 0.45, 1, GSR_riffle, 1000000)\n",
    "GSRr_2_df, GSRr_2_rs = Monte_Carlo(riffle_n_times, 0.45, 2, GSR_riffle, 1000000)\n",
    "GSRr_3_df, GSRr_3_rs = Monte_Carlo(riffle_n_times, 0.45, 3, GSR_riffle, 1000000)\n",
    "GSRr_4_df, GSRr_4_rs = Monte_Carlo(riffle_n_times, 0.45, 4, GSR_riffle, 1000000)\n",
    "GSRr_5_df, GSRr_5_rs = Monte_Carlo(riffle_n_times, 0.45, 5, GSR_riffle, 1000000)\n",
    "GSRr_6_df, GSRr_6_rs = Monte_Carlo(riffle_n_times, 0.45, 6, GSR_riffle, 1000000)\n",
    "GSRr_7_df, GSRr_7_rs = Monte_Carlo(riffle_n_times, 0.45, 7, GSR_riffle, 1000000)\n",
    "GSRr_8_df, GSRr_8_rs = Monte_Carlo(riffle_n_times, 0.45, 8, GSR_riffle, 1000000)\n",
    "GSRr_9_df, GSRr_9_rs = Monte_Carlo(riffle_n_times, 0.45, 9, GSR_riffle, 1000000)\n",
    "GSRr_10_df, GSRr_10_rs = Monte_Carlo(riffle_n_times, 0.45, 10, GSR_riffle, 1000000)"
   ]
  },
  {
   "cell_type": "code",
   "execution_count": null,
   "metadata": {},
   "outputs": [],
   "source": [
    "GSR5_1_df, GSR5_1_rs = Monte_Carlo(riffle_n_times, 0.55, 1, GSR_riffle, 1000000)\n",
    "GSR5_2_df, GSR5_2_rs = Monte_Carlo(riffle_n_times, 0.55, 2, GSR_riffle, 1000000)\n",
    "GSR5_3_df, GSR5_3_rs = Monte_Carlo(riffle_n_times, 0.55, 3, GSR_riffle, 1000000)\n",
    "GSR5_4_df, GSR5_4_rs = Monte_Carlo(riffle_n_times, 0.55, 4, GSR_riffle, 1000000)\n",
    "GSR5_5_df, GSR5_5_rs = Monte_Carlo(riffle_n_times, 0.55, 5, GSR_riffle, 1000000)\n",
    "GSR5_6_df, GSR5_6_rs = Monte_Carlo(riffle_n_times, 0.55, 6, GSR_riffle, 1000000)\n",
    "GSR5_7_df, GSR5_7_rs = Monte_Carlo(riffle_n_times, 0.55, 7, GSR_riffle, 1000000)\n",
    "GSR5_8_df, GSR5_8_rs = Monte_Carlo(riffle_n_times, 0.55, 8, GSR_riffle, 1000000)\n",
    "GSR5_9_df, GSR5_9_rs = Monte_Carlo(riffle_n_times, 0.55, 9, GSR_riffle, 1000000)\n",
    "GSR5_10_df, GSR5_10_rs = Monte_Carlo(riffle_n_times, 0.55, 10, GSR_riffle, 1000000)"
   ]
  },
  {
   "cell_type": "code",
   "execution_count": null,
   "metadata": {},
   "outputs": [],
   "source": [
    "D_1_df, D_1_rs = Monte_Carlo(riffle_n_times, 0.5, 1, Diaconis_riffle, 1000000)\n",
    "D_2_df, D_2_rs = Monte_Carlo(riffle_n_times, 0.5, 2, Diaconis_riffle, 1000000)\n",
    "D_3_df, D_3_rs = Monte_Carlo(riffle_n_times, 0.5, 3, Diaconis_riffle, 1000000)\n",
    "D_4_df, D_4_rs = Monte_Carlo(riffle_n_times, 0.5, 4, Diaconis_riffle, 1000000)\n",
    "D_5_df, D_5_rs = Monte_Carlo(riffle_n_times, 0.5, 5, Diaconis_riffle, 1000000)\n",
    "D_6_df, D_6_rs = Monte_Carlo(riffle_n_times, 0.5, 6, Diaconis_riffle, 1000000)\n",
    "D_7_df, D_7_rs = Monte_Carlo(riffle_n_times, 0.5, 7, Diaconis_riffle, 1000000)\n",
    "D_8_df, D_8_rs = Monte_Carlo(riffle_n_times, 0.5, 8, Diaconis_riffle, 1000000)\n",
    "D_9_df, D_9_rs = Monte_Carlo(riffle_n_times, 0.5, 9, Diaconis_riffle, 1000000)\n",
    "D_10_df, D_10_rs = Monte_Carlo(riffle_n_times, 0.5, 10, Diaconis_riffle, 1000000)"
   ]
  },
  {
   "cell_type": "code",
   "execution_count": null,
   "metadata": {},
   "outputs": [],
   "source": [
    "over_1_df, over_1_rs = Monte_Carlo(riffle_n_times, 0.5, 1, overhand, 1000000)\n",
    "over_2_df, over_2_rs = Monte_Carlo(riffle_n_times, 0.5, 2, overhand, 1000000)\n",
    "over_3_df, over_3_rs = Monte_Carlo(riffle_n_times, 0.5, 3, overhand, 1000000)\n",
    "over_4_df, over_4_rs = Monte_Carlo(riffle_n_times, 0.5, 4, overhand, 1000000)\n",
    "over_5_df, over_5_rs = Monte_Carlo(riffle_n_times, 0.5, 5, overhand, 1000000)\n",
    "over_6_df, over_6_rs = Monte_Carlo(riffle_n_times, 0.5, 6, overhand, 1000000)\n",
    "over_7_df, over_7_rs = Monte_Carlo(riffle_n_times, 0.5, 7, overhand, 1000000)\n",
    "over_8_df, over_8_rs = Monte_Carlo(riffle_n_times, 0.5, 8, overhand, 1000000)"
   ]
  },
  {
   "cell_type": "code",
   "execution_count": null,
   "metadata": {},
   "outputs": [],
   "source": [
    "rs_GSR = [GSR_1_rs, GSR_2_rs, GSR_3_rs, GSR_4_rs, GSR_5_rs, GSR_6_rs, GSR_7_rs, GSR_8_rs, GSR_9_rs, GSR_10_rs, random_shuffle_rs]\n",
    "sigmas_GSR, vars_GSR = return_sig_var(rs_GSR, sigma_inf)\n",
    "sigmas_GSR.insert(0, sigma_initial)\n",
    "\n",
    "rs_45_GSR = [GSRr_1_rs, GSRr_2_rs, GSRr_3_rs, GSRr_4_rs, GSRr_5_rs, GSRr_6_rs, GSRr_7_rs, GSRr_8_rs, GSRr_9_rs, GSRr_10_rs, random_shuffle_rs]\n",
    "sigmas_45_GSR, vars_45_GSR = return_sig_var(rs_GSR, sigma_inf)\n",
    "sigmas_45_GSR.insert(0, sigma_initial)\n",
    "\n",
    "rs_55_GSR = [GSR5_1_rs, GSR5_2_rs, GSR5_3_rs, GSR5_4_rs, GSR5_5_rs, GSR5_6_rs, GSR5_7_rs, GSR5_8_rs, GSR5_9_rs, GSR5_10_rs, random_shuffle_rs]\n",
    "sigmas_55_GSR, vars_55_GSR = return_sig_var(rs_55_GSR, sigma_inf)\n",
    "sigmas_55_GSR.insert(0, sigma_initial)"
   ]
  },
  {
   "cell_type": "code",
   "execution_count": null,
   "metadata": {},
   "outputs": [],
   "source": [
    "rs_Diaconis = [D_1_rs, D_2_rs, D_3_rs, D_4_rs, D_5_rs, D_6_rs, D_7_rs, D_8_rs, D_9_rs, D_10_rs, random_shuffle_rs]\n",
    "sigmas_Diaconis, vars_Diaconis = return_sig_var(rs_Diaconis, return_sigma(random_shuffle_rs))\n",
    "sigmas_Diaconis.insert(0, sigma_initial)"
   ]
  },
  {
   "cell_type": "code",
   "execution_count": null,
   "metadata": {},
   "outputs": [],
   "source": [
    "colors = ['turquoise', '#0d0887', '#46039f', '#7201a8', '#9c179e', '#bd3786', '#d8576b', '#ed7953', '#fb9f3a', '#fdca26', '#f0f921', 'turquoise']\n",
    "density_names = ['initial', '1 riffle ', '2 riffles ', '3 riffles ', '4 riffles ', '5 riffles ', '6 riffles ', '7 riffles ', '8 riffles ', '9 riffles ', '10 riffles ', 'uniform']\n",
    "plot_density(sigmas_Diaconis, colors, density_names)"
   ]
  },
  {
   "cell_type": "code",
   "execution_count": null,
   "metadata": {},
   "outputs": [],
   "source": [
    "colors = ['turquoise', '#0d0887', '#46039f', '#7201a8', '#9c179e', '#bd3786', '#d8576b', '#ed7953', '#fb9f3a', '#fdca26', '#f0f921', 'turquoise']\n",
    "density_names = ['initial', '1 riffle ', '2 riffles ', '3 riffles ', '4 riffles ', '5 riffles ', '6 riffles ', '7 riffles ', '8 riffles ', '9 riffles ', '10 riffles ', 'uniform']\n",
    "plot_density(sigmas_GSR, colors, density_names)"
   ]
  },
  {
   "cell_type": "code",
   "execution_count": null,
   "metadata": {},
   "outputs": [],
   "source": [
    "GSR_7_df_cut, GSR_7_rs_cut = Monte_Carlo(riffle_n_times, 0.5, 7, GSR_riffle, 1000000)"
   ]
  },
  {
   "cell_type": "code",
   "execution_count": null,
   "metadata": {},
   "outputs": [],
   "source": [
    "RRSRRRRRC_GSR_df, RRSRRRRRC_GSR_rs = Monte_Carlo(shuffle_RRHRRRRRC, 0.5, strip, GSR_riffle, 1000000)\n",
    "RRSRRRRC_GSR_df, RRSRRRRC_GSR_rs = Monte_Carlo(shuffle_RRHRRRRC, 0.5, strip, GSR_riffle, 1000000)\n",
    "RRSRRRC_GSR_df, RRSRRRC_GSR_rs = Monte_Carlo(shuffle_RRHRRRC, 0.5, strip, GSR_riffle, 1000000)\n",
    "RRSRRC_GSR_df, RRSRRC_GSR_rs = Monte_Carlo(shuffle_RRHRRC, 0.5, strip, GSR_riffle, 1000000)\n",
    "RRSRC_GSR_df, RRSRC_GSR_rs = Monte_Carlo(shuffle_RRHRC, 0.5, strip, GSR_riffle, 1000000)"
   ]
  },
  {
   "cell_type": "code",
   "execution_count": null,
   "metadata": {},
   "outputs": [],
   "source": [
    "RRORRRRRC_GSR_df, RRORRRRRC_GSR_rs = Monte_Carlo(shuffle_RRHRRRRRC, 0.5, overhand, GSR_riffle, 1000000)\n",
    "RRORRRRC_GSR_df, RRORRRRC_GSR_rs = Monte_Carlo(shuffle_RRHRRRRC, 0.5, overhand, GSR_riffle, 1000000)\n",
    "RRORRRC_GSR_df, RRORRRC_GSR_rs = Monte_Carlo(shuffle_RRHRRRC, 0.5, overhand, GSR_riffle, 1000000)\n",
    "RRORRC_GSR_df, RRORRC_GSR_rs = Monte_Carlo(shuffle_RRHRRC, 0.5, overhand, GSR_riffle, 1000000)\n",
    "RRORC_GSR_df, RRORC_GSR_rs = Monte_Carlo(shuffle_RRHRC, 0.5, overhand, GSR_riffle, 1000000)"
   ]
  },
  {
   "cell_type": "code",
   "execution_count": null,
   "metadata": {},
   "outputs": [],
   "source": [
    "rs_strip = [RRSRC_GSR_rs, RRSRRC_GSR_rs, RRSRRRC_GSR_rs, RRSRRRRC_GSR_rs, RRSRRRRRC_GSR_rs, GSR_7_rs, random_shuffle_rs]\n",
    "sigmas_strip_GSR, vars_strip_GSR = return_sig_var(rs_strip, sigma_inf)\n",
    "sigmas_strip_GSR.insert(0, sigma_initial)"
   ]
  },
  {
   "cell_type": "code",
   "execution_count": null,
   "metadata": {},
   "outputs": [],
   "source": [
    "rs_over = [RRORC_GSR_rs, RRORRC_GSR_rs, RRORRRC_GSR_rs, RRORRRRC_GSR_rs, RRORRRRRC_GSR_rs, GSR_7_rs, random_shuffle_rs]\n",
    "sigmas_over_GSR, vars_over_GSR = return_sig_var(rs_over, return_sigma(GSR_7_rs))\n",
    "sigmas_over_GSR.insert(0, sigma_initial)"
   ]
  },
  {
   "cell_type": "code",
   "execution_count": null,
   "metadata": {},
   "outputs": [],
   "source": [
    "colors = ['turquoise', '#0d0887', '#6a00a8', '#b12a90', '#e16462', '#fca636', '#f0f921', 'turquoise']\n",
    "density_names = ['initial', 'RRSRC ', 'RRSRRC ', 'RRSRRRC ', 'RRSRRRRC ', 'RRSRRRRRC', '7 riffles ', 'uniform']\n",
    "plot_density(sigmas_strip_GSR, colors, density_names)"
   ]
  },
  {
   "cell_type": "code",
   "execution_count": null,
   "metadata": {},
   "outputs": [],
   "source": [
    "colors = ['turquoise', '#0d0887', '#6a00a8', '#b12a90', '#e16462', '#fca636', '#f0f921', 'turquoise']\n",
    "density_names = ['initial', 'RRORC ', 'RRORRC ', 'RRORRRC ', 'RRORRRRC ', 'RRORRRRRC', '7 riffles ', 'uniform']\n",
    "plot_density(sigmas_over_GSR, colors, density_names)"
   ]
  },
  {
   "cell_type": "code",
   "execution_count": null,
   "metadata": {},
   "outputs": [],
   "source": [
    "RRSRRRRRC_D_df, RRSRRRRRC_D_rs = Monte_Carlo(shuffle_RRHRRRRRC, 0.5, strip, Diaconis_riffle, 1000000)\n",
    "RRSRRRRC_D_df, RRSRRRRC_D_rs = Monte_Carlo(shuffle_RRHRRRRC, 0.5, strip, Diaconis_riffle, 1000000)\n",
    "RRSRRRC_D_df, RRSRRRC_D_rs = Monte_Carlo(shuffle_RRHRRRC, 0.5, strip, Diaconis_riffle, 1000000)\n",
    "RRSRRC_D_df, RRSRRC_D_rs = Monte_Carlo(shuffle_RRHRRC, 0.5, strip, Diaconis_riffle, 1000000)\n",
    "RRSRC_D_df, RRSRC_D_rs = Monte_Carlo(shuffle_RRHRC, 0.5, strip, Diaconis_riffle, 1000000)"
   ]
  },
  {
   "cell_type": "code",
   "execution_count": null,
   "metadata": {},
   "outputs": [],
   "source": [
    "RRORRRRRC_D_df, RRORRRRRC_D_rs = Monte_Carlo(shuffle_RRHRRRRRC, 0.5, overhand, Diaconis_riffle, 1000000)\n",
    "RRORRRRC_D_df, RRORRRRC_D_rs = Monte_Carlo(shuffle_RRHRRRRC, 0.5, overhand, Diaconis_riffle, 1000000)\n",
    "RRORRRC_D_df, RRORRRC_D_rs = Monte_Carlo(shuffle_RRHRRRC, 0.5, overhand, Diaconis_riffle, 1000000)\n",
    "RRORRC_D_df, RRORRC_D_rs = Monte_Carlo(shuffle_RRHRRC, 0.5, overhand, Diaconis_riffle, 1000000)\n",
    "RRORC_D_df, RRORC_D_rs = Monte_Carlo(shuffle_RRHRC, 0.5, overhand, Diaconis_riffle, 1000000)"
   ]
  },
  {
   "cell_type": "code",
   "execution_count": null,
   "metadata": {},
   "outputs": [],
   "source": [
    "rs_strip_D = [RRSRC_D_rs, RRSRRC_D_rs, RRSRRRC_D_rs, RRSRRRRC_D_rs, RRSRRRRRC_D_rs, GSR_7_rs, random_shuffle_rs]\n",
    "sigmas_strip_D, vars_strip_D = return_sig_var(rs_strip_D, return_sigma(random_shuffle_rs))\n",
    "sigmas_strip_D.insert(0, sigma_initial)"
   ]
  },
  {
   "cell_type": "code",
   "execution_count": null,
   "metadata": {},
   "outputs": [],
   "source": [
    "rs_over_D = [RRORC_D_rs, RRORRC_D_rs, RRORRRC_D_rs, RRORRRRC_D_rs, RRORRRRRC_D_rs, GSR_7_rs, random_shuffle_rs]\n",
    "sigmas_over_D, vars_over_D = return_sig_var(rs_over_D, return_sigma(random_shuffle_rs))\n",
    "sigmas_over_D.insert(0, sigma_initial)"
   ]
  },
  {
   "cell_type": "code",
   "execution_count": null,
   "metadata": {},
   "outputs": [],
   "source": [
    "colors = ['turquoise', '#0d0887', '#6a00a8', '#b12a90', '#e16462', '#fca636', '#f0f921', 'turquoise']\n",
    "density_names = ['initial', 'RRSRC ', 'RRSRRC ', 'RRSRRRC ', 'RRSRRRRC ', 'RRSRRRRRC', '7 riffles ', 'uniform']\n",
    "plot_density(sigmas_strip_D, colors, density_names)"
   ]
  },
  {
   "cell_type": "code",
   "execution_count": null,
   "metadata": {},
   "outputs": [],
   "source": [
    "colors = ['turquoise', '#0d0887', '#6a00a8', '#b12a90', '#e16462', '#fca636', '#f0f921', 'turquoise']\n",
    "density_names = ['initial', 'RRORC ', 'RRORRC ', 'RRORRRC ', 'RRORRRRC ', 'RRORRRRRC', '7 riffles ', 'uniform']\n",
    "plot_density(sigmas_over_D, colors, density_names)"
   ]
  },
  {
   "cell_type": "code",
   "execution_count": null,
   "metadata": {},
   "outputs": [],
   "source": [
    "pip install Jinja2"
   ]
  },
  {
   "cell_type": "code",
   "execution_count": null,
   "metadata": {},
   "outputs": [],
   "source": [
    "import pandas as pd\n",
    "import numpy as np\n",
    "from IPython.display import display, HTML\n",
    "\n",
    "# create a sample DataFrame\n",
    "df = pd.DataFrame({'A': [True, False, True, False],\n",
    "                   'B': [False, False, True, True],\n",
    "                   'C': [True, True, True, False]})\n",
    "\n",
    "# create a function to highlight cells with True values\n",
    "def highlight_true(val):\n",
    "    if val:\n",
    "        return ''\n",
    "    else:\n",
    "        return 'background-color: aqua'\n",
    "\n",
    "# apply the function to the DataFrame\n",
    "df_styled = df.style.applymap(highlight_true)\n",
    "\n",
    "# display the styled DataFrame\n",
    "display(df_styled)\n"
   ]
  },
  {
   "cell_type": "code",
   "execution_count": null,
   "metadata": {},
   "outputs": [],
   "source": [
    "def decision(dfs):\n",
    "    p = 3\n",
    "    res = pd.DataFrame(index = np.arange(1, 53))\n",
    "    for i in range(len(dfs)):\n",
    "        chi_stats, pvals = stats.chisquare(dfs[i].apply(lambda x: x.value_counts()).fillna(0))\n",
    "        decision = pvals < 0.01\n",
    "        # decision, adj_pvals, a1, a2 = multipletests(pvals, alpha=0.01, method='bonferroni')\n",
    "        if i == len(dfs) - 1:\n",
    "            res['Decision 5%' + ' ' + 'uniform'] = decision\n",
    "        else:\n",
    "            res['Decision 5%' + ' ' + str(p) + ' riffle'] = decision\n",
    "        p += 1\n",
    "        df_styled = res.style.applymap(highlight_true)\n",
    "    return df_styled\n"
   ]
  },
  {
   "cell_type": "code",
   "execution_count": null,
   "metadata": {},
   "outputs": [],
   "source": [
    "decision([RRORC_D_df, RRORRC_D_df, RRORRRC_D_df, RRORRRRC_D_df, RRORRRRRC_D_df, random_shuffle_df])"
   ]
  },
  {
   "cell_type": "code",
   "execution_count": null,
   "metadata": {},
   "outputs": [],
   "source": [
    "decision([RRSRC_GSR_df, RRSRRC_GSR_df, RRSRRRC_GSR_df, RRSRRRRC_GSR_df, RRSRRRRRC_GSR_df, random_shuffle_df])"
   ]
  },
  {
   "cell_type": "code",
   "execution_count": null,
   "metadata": {},
   "outputs": [],
   "source": [
    "decision([RRORC_GSR_df, RRORRC_GSR_df, RRORRRC_GSR_df, RRORRRRC_GSR_df, RRORRRRRC_GSR_df, random_shuffle_df])"
   ]
  },
  {
   "cell_type": "code",
   "execution_count": null,
   "metadata": {},
   "outputs": [],
   "source": [
    "decision([GSR_1_df, GSR_2_df, GSR_3_df, GSR_4_df, GSR_5_df, GSR_6_df, GSR_7_df, GSR_8_df, GSR_9_df, GSR_10_df, random_shuffle_df])"
   ]
  },
  {
   "cell_type": "code",
   "execution_count": null,
   "metadata": {},
   "outputs": [],
   "source": [
    "decision([D_1_df, D_2_df, D_3_df, D_4_df, D_5_df, D_6_df, D_7_df, D_8_df, D_9_df, D_10_df, random_shuffle_df])"
   ]
  },
  {
   "cell_type": "code",
   "execution_count": null,
   "metadata": {},
   "outputs": [],
   "source": [
    "decision([RRSRC_D_df, RRSRRC_D_df, RRSRRRC_D_df, RRSRRRRC_D_df, RRSRRRRRC_D_df, random_shuffle_df])"
   ]
  }
 ],
 "metadata": {
  "kernelspec": {
   "display_name": "Python 3",
   "language": "python",
   "name": "python3"
  },
  "language_info": {
   "codemirror_mode": {
    "name": "ipython",
    "version": 3
   },
   "file_extension": ".py",
   "mimetype": "text/x-python",
   "name": "python",
   "nbconvert_exporter": "python",
   "pygments_lexer": "ipython3",
   "version": "3.9.5"
  },
  "orig_nbformat": 4
 },
 "nbformat": 4,
 "nbformat_minor": 2
}
