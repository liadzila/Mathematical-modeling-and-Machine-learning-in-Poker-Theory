{
 "cells": [
  {
   "cell_type": "code",
   "execution_count": null,
   "metadata": {},
   "outputs": [],
   "source": [
    "import pandas as pd\n",
    "import numpy as np\n",
    "import seaborn as sns\n",
    "import matplotlib.pyplot as plt"
   ]
  },
  {
   "cell_type": "code",
   "execution_count": null,
   "metadata": {},
   "outputs": [],
   "source": [
    "# data import \n",
    "data = pd.read_csv(\"\", sep = \";\")\n",
    "order = data['Unnamed: 1']\n",
    "data = data.drop(['Unnamed: 0', 'Unnamed: 1'], axis = 1)\n",
    "data = data.replace('  ', '0').fillna('0').astype('string')\n",
    "data = data.replace(0, '0')\n",
    "pd.set_option('display.max_rows', 10000)"
   ]
  },
  {
   "cell_type": "code",
   "execution_count": null,
   "metadata": {},
   "outputs": [],
   "source": [
    "# first_player = []\n",
    "# for i in range(len(order)):\n",
    "#     first_player.append(int(order[i][0]))"
   ]
  },
  {
   "cell_type": "code",
   "execution_count": null,
   "metadata": {},
   "outputs": [],
   "source": [
    "df = data.drop(data.columns[[0, 3, 6, 9, 12, 15, 23]], axis = 1).reset_index(drop=True)"
   ]
  },
  {
   "cell_type": "code",
   "execution_count": null,
   "metadata": {},
   "outputs": [],
   "source": [
    "df = df[(df.P1H2 != '0') & (df.P2H2 != '0') & (df.P3H2 != '0') & (df.P4H2 != '0') & (df.P5H2 != '0') & (df.P6H2 != '0')].reset_index(drop=True)"
   ]
  },
  {
   "cell_type": "code",
   "execution_count": null,
   "metadata": {},
   "outputs": [],
   "source": [
    "def count_match(arr1, arr2):\n",
    "    num_matches = 0\n",
    "    for i in range(len(arr1)):\n",
    "        if arr2[i] in arr1 and arr2[i] != '0':\n",
    "            num_matches += 1\n",
    "            arr1.remove(arr2[i])\n",
    "    return num_matches"
   ]
  },
  {
   "cell_type": "code",
   "execution_count": null,
   "metadata": {},
   "outputs": [],
   "source": [
    "matches = [0]\n",
    "for i in range(len(df) - 1):\n",
    "    matches.append(count_match(list(df.loc[i]), list(df.loc[i + 1])))"
   ]
  },
  {
   "cell_type": "code",
   "execution_count": null,
   "metadata": {},
   "outputs": [],
   "source": [
    "df['matches'] = matches\n",
    "df"
   ]
  },
  {
   "cell_type": "code",
   "execution_count": null,
   "metadata": {},
   "outputs": [],
   "source": [
    "def encode_index(i):\n",
    "    if i == 1:\n",
    "        return 1\n",
    "    elif i == 3:\n",
    "        return 2\n",
    "    elif i == 5:\n",
    "        return 3\n",
    "    elif i == 7:\n",
    "        return 4\n",
    "    elif i == 9:\n",
    "        return 5\n",
    "    elif i == 11:\n",
    "        return 6"
   ]
  },
  {
   "cell_type": "code",
   "execution_count": null,
   "metadata": {},
   "outputs": [],
   "source": [
    "left_players = []\n",
    "real_orders = []\n",
    "for i in range(len(df)):\n",
    "    non_zero = []\n",
    "    for j in range(1, 12, 2):\n",
    "        if df.iloc[i, j] != '0':\n",
    "            non_zero.append(encode_index(j))\n",
    "    left_players.append(non_zero)\n",
    "    # cut_point = non_zero.index(first_player[i])\n",
    "    # real_order = non_zero[cut_point:] + non_zero[:cut_point]\n",
    "    # real_orders.append(real_order)"
   ]
  },
  {
   "cell_type": "code",
   "execution_count": null,
   "metadata": {},
   "outputs": [],
   "source": [
    "df_card_pos = pd.DataFrame(columns = [1, 2, 3, 4, 5, 6, 7, 8, 9, 10, 11, 12, 13, 14, 15, 16, 17])"
   ]
  },
  {
   "cell_type": "code",
   "execution_count": null,
   "metadata": {},
   "outputs": [],
   "source": [
    "class players_hand:\n",
    "    def __init__(self, arr_table):\n",
    "        self.p1 = (arr_table[0], arr_table[1])\n",
    "        self.p2 = (arr_table[2], arr_table[3])\n",
    "        self.p3 = (arr_table[4], arr_table[5])\n",
    "        self.p4 = (arr_table[6], arr_table[7])\n",
    "        self.p5 = (arr_table[8], arr_table[9])\n",
    "        self.p6 = (arr_table[10], arr_table[11])\n",
    "        self.flop = (arr_table[12], arr_table[13], arr_table[14])\n",
    "        self.turn = arr_table[15]\n",
    "        self.river = arr_table[16]\n",
    "\n",
    "    # def sort_pl(self, order):\n",
    "    #     arr = []\n",
    "    #     for i in range(len(order)):\n",
    "    #         if order[i] == 1:\n",
    "    #             arr.append(self.p1)\n",
    "    #         if order[i] == 2:\n",
    "    #             arr.append(self.p2)\n",
    "    #         if order[i] == 3:\n",
    "    #             arr.append(self.p3)\n",
    "    #         if order[i] == 4:\n",
    "    #             arr.append(self.p4)\n",
    "    #         if order[i] == 5:\n",
    "    #             arr.append(self.p5)\n",
    "    #         if order[i] == 6:\n",
    "    #             arr.append(self.p6)\n",
    "    #     for i in range(6 - len(arr)):\n",
    "    #         arr.append('0')\n",
    "    #     return arr\n"
   ]
  },
  {
   "cell_type": "code",
   "execution_count": null,
   "metadata": {},
   "outputs": [],
   "source": [
    "arr_encoded = []\n",
    "for i in range(len(df)):\n",
    "    arr_encoded.append(players_hand(df.loc[i]))"
   ]
  },
  {
   "cell_type": "code",
   "execution_count": null,
   "metadata": {},
   "outputs": [],
   "source": [
    "df"
   ]
  },
  {
   "cell_type": "code",
   "execution_count": null,
   "metadata": {},
   "outputs": [],
   "source": [
    "def right_pos_df(arr_encoded):\n",
    "    arr_df = []\n",
    "    for i in range(len(arr_encoded)):\n",
    "        table = arr_encoded[i]\n",
    "        arr = []\n",
    "        for j in range(len(left_players[i])):\n",
    "            if left_players[i][j] == 1:\n",
    "                arr.append(table.p1[0])\n",
    "                arr.append(table.p1[1])\n",
    "            if left_players[i][j] == 2:\n",
    "                arr.append(table.p2[0])\n",
    "                arr.append(table.p2[1])\n",
    "            if left_players[i][j] == 3:\n",
    "                arr.append(table.p3[0])\n",
    "                arr.append(table.p3[1])\n",
    "            if left_players[i][j] == 4:\n",
    "                arr.append(table.p4[0])\n",
    "                arr.append(table.p4[1])\n",
    "            if left_players[i][j] == 5:\n",
    "                arr.append(table.p5[0])\n",
    "                arr.append(table.p5[1])\n",
    "            if left_players[i][j] == 6:\n",
    "                arr.append(table.p6[0])\n",
    "                arr.append(table.p6[1])\n",
    "        for m in range(12 - len(arr)):\n",
    "            arr.append(0)\n",
    "\n",
    "        arr.append(arr_encoded[i].flop[0])\n",
    "        arr.append(arr_encoded[i].flop[1])\n",
    "        arr.append(arr_encoded[i].flop[2])\n",
    "        arr.append(arr_encoded[i].turn)\n",
    "        arr.append(arr_encoded[i].river)\n",
    "    \n",
    "        arr_df.append(arr)\n",
    "    df_pl_pos = pd.DataFrame(columns=['P1H1', 'P1H2', 'P2H1', 'P2H2', 'P3H1', 'P3H2', 'P4H1', 'P4H2', 'P5H1', 'P5H2', 'P6H1', 'P6H2', 'Flop1', 'Flop2', 'Flop3', 'Turn', 'River'], data = arr_df)\n",
    "    return df_pl_pos"
   ]
  },
  {
   "cell_type": "code",
   "execution_count": null,
   "metadata": {},
   "outputs": [],
   "source": [
    "d = right_pos_df(arr_encoded)"
   ]
  },
  {
   "cell_type": "code",
   "execution_count": null,
   "metadata": {},
   "outputs": [],
   "source": [
    "n = 2538 * 2\n",
    "df_pl = df.apply(lambda x: x.value_counts()).fillna(0)\n",
    "df_freq = pd.DataFrame(columns=[1, 2, 3, 4, 5, 6], index=['AS', 'AD', 'AC', 'AH', 'KS', 'KD', 'KC', 'KH', 'QS', 'QD', 'QC', 'QH', 'JS', 'JD', 'JC', 'JH', 'TS', 'TD', 'TC', 'TH', \n",
    "                                                    '9S', '9D', '9C', '9H', '8S', '8D', '8C', '8H', '7S', '7D', '7C', '7H', '6S', '6D', '6C', '6H', '5S', '5C', '5D', '5H',\n",
    "                                                    '4S', '4D', '4C', '4H', '3S', '3D', '3C', '3H', '2S', '2D', '2C', '2H'])\n",
    "# df_freq[1] = (df_pl['P1H1'] + df_pl['P1H2']) / n\n",
    "# df_freq[2] = (df_pl['P2H1'] + df_pl['P2H2']) / n\n",
    "# df_freq[3] = (df_pl['P3H1'] + df_pl['P3H2']) / (n - 750)\n",
    "# df_freq[4] = (df_pl['P4H1'] + df_pl['P4H2']) / (n - 1850)\n",
    "# df_freq[5] = (df_pl['P5H1'] + df_pl['P5H2']) / (n - 2840)\n",
    "# df_freq[6] = (df_pl['P6H1'] + df_pl['P6H2']) / (n - 3700)\n",
    "\n",
    "df_freq[1] = (df_pl['P1H1'] + df_pl['P1H2'])\n",
    "df_freq[2] = (df_pl['P2H1'] + df_pl['P2H2'])\n",
    "df_freq[3] = (df_pl['P3H1'] + df_pl['P3H2'])\n",
    "df_freq[4] = (df_pl['P4H1'] + df_pl['P4H2'])\n",
    "df_freq[5] = (df_pl['P5H1'] + df_pl['P5H2'])\n",
    "df_freq[6] = (df_pl['P6H1'] + df_pl['P6H2'])"
   ]
  },
  {
   "cell_type": "code",
   "execution_count": null,
   "metadata": {},
   "outputs": [],
   "source": [
    "def fig_distr(i):\n",
    "    thres = df_freq[i].sum() / 52\n",
    "    fig = plt.figure(figsize=(12, 8))\n",
    "    graph = sns.barplot(x = df_freq[i].index, y = df_freq[i], width = 0.9)\n",
    "    graph.axhline(thres, color='black', dashes=(5, 2), label = 'threshold')\n",
    "    graph.set(ylim=(0, 40))\n",
    "    plt.ylabel('Frequency')\n",
    "    plt.title('Player ' + str(i))\n",
    "    plt.legend()\n",
    "    plt.tight_layout()"
   ]
  },
  {
   "cell_type": "code",
   "execution_count": null,
   "metadata": {},
   "outputs": [],
   "source": [
    "fig_distr(2)"
   ]
  },
  {
   "cell_type": "code",
   "execution_count": null,
   "metadata": {},
   "outputs": [],
   "source": [
    "import scipy.stats as stats\n",
    "chi_stats, pvals = stats.chisquare(df_freq)"
   ]
  },
  {
   "cell_type": "code",
   "execution_count": null,
   "metadata": {},
   "outputs": [],
   "source": [
    "chi_stats"
   ]
  },
  {
   "cell_type": "code",
   "execution_count": null,
   "metadata": {},
   "outputs": [],
   "source": [
    "def cards_distribution_graph(df_card_stats):    \n",
    "    fig = plt.figure(figsize=(25, 30))\n",
    "    ax1 = fig.add_subplot(11, 1, 1)\n",
    "    ax1.bar(df_card_stats.index, df_card_stats.iloc[:, 0], color = deck_values_colors)\n",
    "    ax1.set_title(df_card_stats.columns[0])\n",
    "    for i in range(1, df_card_stats.shape[1]):\n",
    "        ax = fig.add_subplot(11, 1, i + 1, sharey = ax1)\n",
    "        ax.bar(df_card_stats.index, df_card_stats.iloc[:, i], color = deck_values_colors)\n",
    "        ax.set_title(df_card_stats.columns[i])\n",
    "    plt.tight_layout()"
   ]
  },
  {
   "cell_type": "code",
   "execution_count": null,
   "metadata": {},
   "outputs": [],
   "source": [
    "arr_df = []\n",
    "for i in range(len(real_orders)):\n",
    "    # arr = [0,0,0,0,0,0,0,0,0,0,0,0,0,0,0,0,0]\n",
    "    arr = []\n",
    "    for j in range(len(real_orders[i])):\n",
    "        if real_orders[i][j] == 1:\n",
    "            arr.append(arr_encoded[i].p1[0])\n",
    "        if real_orders[i][j] == 2:\n",
    "            arr.append(arr_encoded[i].p2[0])\n",
    "        if real_orders[i][j] == 3:\n",
    "            arr.append(arr_encoded[i].p3[0])\n",
    "        if real_orders[i][j] == 4:\n",
    "            arr.append(arr_encoded[i].p4[0])\n",
    "        if real_orders[i][j] == 5:\n",
    "            arr.append(arr_encoded[i].p5[0])\n",
    "        if real_orders[i][j] == 6:\n",
    "            arr.append(arr_encoded[i].p6[0])\n",
    "\n",
    "    for j in range(len(real_orders[i])):\n",
    "        if real_orders[i][j] == 1:\n",
    "            arr.append(arr_encoded[i].p1[1])\n",
    "        if real_orders[i][j] == 2:\n",
    "            arr.append(arr_encoded[i].p2[1])\n",
    "        if real_orders[i][j] == 3:\n",
    "            arr.append(arr_encoded[i].p3[1])\n",
    "        if real_orders[i][j] == 4:\n",
    "            arr.append(arr_encoded[i].p4[1])\n",
    "        if real_orders[i][j] == 5:\n",
    "            arr.append(arr_encoded[i].p5[1])\n",
    "        if real_orders[i][j] == 6:\n",
    "            arr.append(arr_encoded[i].p6[1])\n",
    "    # zeroes = list(np.full(12 - len(arr), '0'))\n",
    "    # arr += zeroes\n",
    "    arr.append('|')\n",
    "    arr.append(arr_encoded[i].flop[0])\n",
    "    arr.append(arr_encoded[i].flop[1])\n",
    "    arr.append(arr_encoded[i].flop[2])\n",
    "    arr.append('0')\n",
    "    arr.append(arr_encoded[i].turn)\n",
    "    arr.append('0')\n",
    "    arr.append(arr_encoded[i].river)\n",
    "    arr = np.pad(arr, (0, 20-len(arr)), 'constant')\n",
    "    arr_df.append(arr)\n",
    "    "
   ]
  },
  {
   "cell_type": "code",
   "execution_count": null,
   "metadata": {},
   "outputs": [],
   "source": [
    "df_card_pos = pd.DataFrame(columns = [1, 2, 3, 4, 5, 6, 7, 8, 9, 10, 11, 12, 13, 14, 15, 16, 17, 18, 19, 20], data = arr_df)"
   ]
  },
  {
   "cell_type": "code",
   "execution_count": null,
   "metadata": {},
   "outputs": [],
   "source": [
    "df_freq = df_card_pos.apply(lambda x: x.value_counts()).reindex(index=['AH', 'AC', 'AD', 'AS', 'KH', 'KC', 'KD', 'KS', 'QH', 'QC', 'QD', 'QS', 'JH', 'JC', 'JD', 'JS', 'TH', 'TC', 'TD', 'TS', \n",
    "                                                    '9H', '9C', '9D', '9S', '8H', '8C', '8D', '8S', '7H', '7C', '7D', '7S', '6H', '6C', '6D', '6S', '5H', '5C', '5D', '5S',\n",
    "                                                    '4H', '4C', '4D', '4S', '3H', '3C', '3D', '3S', '2H', '2C', '2D', '2S'])"
   ]
  }
 ],
 "metadata": {
  "kernelspec": {
   "display_name": "Python 3",
   "language": "python",
   "name": "python3"
  },
  "language_info": {
   "codemirror_mode": {
    "name": "ipython",
    "version": 3
   },
   "file_extension": ".py",
   "mimetype": "text/x-python",
   "name": "python",
   "nbconvert_exporter": "python",
   "pygments_lexer": "ipython3",
   "version": "3.9.5"
  },
  "orig_nbformat": 4
 },
 "nbformat": 4,
 "nbformat_minor": 2
}
